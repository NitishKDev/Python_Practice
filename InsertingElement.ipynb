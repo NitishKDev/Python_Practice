{
 "cells": [
  {
   "cell_type": "code",
   "execution_count": 8,
   "id": "7a164828",
   "metadata": {},
   "outputs": [
    {
     "name": "stdout",
     "output_type": "stream",
     "text": [
      "Enter the element to be inserted: 21\n",
      "Sorted list is:  [11, 21, 22, 34]\n"
     ]
    }
   ],
   "source": [
    "# Python3 program to insert an element into sorted list\n",
    "import bisect \n",
    "\n",
    "def insert(list, n):\n",
    "    bisect.insort(list, n) \n",
    "    return list\n",
    "\n",
    "list = [11, 22, 34]\n",
    "n = int(input(\"Enter the element to be inserted: \"))\n",
    "sl=insert(list, n)\n",
    "print(\"Sorted list is: \",sl)\n"
   ]
  },
  {
   "cell_type": "code",
   "execution_count": null,
   "id": "2ab4da44",
   "metadata": {},
   "outputs": [],
   "source": []
  }
 ],
 "metadata": {
  "kernelspec": {
   "display_name": "Python 3 (ipykernel)",
   "language": "python",
   "name": "python3"
  },
  "language_info": {
   "codemirror_mode": {
    "name": "ipython",
    "version": 3
   },
   "file_extension": ".py",
   "mimetype": "text/x-python",
   "name": "python",
   "nbconvert_exporter": "python",
   "pygments_lexer": "ipython3",
   "version": "3.11.3"
  }
 },
 "nbformat": 4,
 "nbformat_minor": 5
}
