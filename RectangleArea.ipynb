{
 "cells": [
  {
   "cell_type": "code",
   "execution_count": 2,
   "id": "8b7af31b",
   "metadata": {},
   "outputs": [
    {
     "name": "stdout",
     "output_type": "stream",
     "text": [
      "Enter the length of rectangle: 5\n",
      "Enter the breadth of the rectangle: 6\n",
      "Area of rectangle is: 30.0\n"
     ]
    }
   ],
   "source": [
    "def Area():\n",
    "    length = float(input(\"Enter the length of rectangle: \"))\n",
    "    breadth = float(input(\"Enter the breadth of the rectangle: \"))\n",
    "    area=length*breadth\n",
    "    return print('Area of rectangle is:' ,area)\n",
    "Area()"
   ]
  },
  {
   "cell_type": "code",
   "execution_count": null,
   "id": "7d11b5ba",
   "metadata": {},
   "outputs": [],
   "source": []
  }
 ],
 "metadata": {
  "kernelspec": {
   "display_name": "Python 3 (ipykernel)",
   "language": "python",
   "name": "python3"
  },
  "language_info": {
   "codemirror_mode": {
    "name": "ipython",
    "version": 3
   },
   "file_extension": ".py",
   "mimetype": "text/x-python",
   "name": "python",
   "nbconvert_exporter": "python",
   "pygments_lexer": "ipython3",
   "version": "3.11.3"
  }
 },
 "nbformat": 4,
 "nbformat_minor": 5
}
