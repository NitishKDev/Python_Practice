{
 "cells": [
  {
   "cell_type": "markdown",
   "id": "68f073e9",
   "metadata": {},
   "source": [
    "Join all items in a tuple into a string, using a hash character as separator"
   ]
  },
  {
   "cell_type": "code",
   "execution_count": 17,
   "id": "b3ba698a",
   "metadata": {},
   "outputs": [
    {
     "name": "stdout",
     "output_type": "stream",
     "text": [
      "('Hello', 'Jack', 'Frost')\n"
     ]
    }
   ],
   "source": [
    "mytup=(\"Hello\",\"Jack\",\"Frost\")\n",
    "print(mytup)"
   ]
  },
  {
   "cell_type": "code",
   "execution_count": 18,
   "id": "1e17f868",
   "metadata": {},
   "outputs": [],
   "source": [
    "temp=\"#\".join(mytup)"
   ]
  },
  {
   "cell_type": "code",
   "execution_count": 19,
   "id": "c03d2457",
   "metadata": {},
   "outputs": [
    {
     "name": "stdout",
     "output_type": "stream",
     "text": [
      "Hello#Jack#Frost\n"
     ]
    }
   ],
   "source": [
    "print(temp)"
   ]
  },
  {
   "cell_type": "code",
   "execution_count": null,
   "id": "9fca6088",
   "metadata": {},
   "outputs": [],
   "source": []
  }
 ],
 "metadata": {
  "kernelspec": {
   "display_name": "Python 3 (ipykernel)",
   "language": "python",
   "name": "python3"
  },
  "language_info": {
   "codemirror_mode": {
    "name": "ipython",
    "version": 3
   },
   "file_extension": ".py",
   "mimetype": "text/x-python",
   "name": "python",
   "nbconvert_exporter": "python",
   "pygments_lexer": "ipython3",
   "version": "3.11.3"
  }
 },
 "nbformat": 4,
 "nbformat_minor": 5
}
