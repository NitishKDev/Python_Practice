{
 "cells": [
  {
   "cell_type": "markdown",
   "id": "36507b49",
   "metadata": {},
   "source": [
    "Print a name n times, where name and n are read from standard input"
   ]
  },
  {
   "cell_type": "code",
   "execution_count": 5,
   "id": "1241317a",
   "metadata": {},
   "outputs": [
    {
     "name": "stdout",
     "output_type": "stream",
     "text": [
      "Enter namesjack\n",
      "Enter number of times you wanna print4\n",
      "jack \n",
      "jack \n",
      "jack \n",
      "jack \n"
     ]
    }
   ],
   "source": [
    "name=input(\"Enter names\")\n",
    "n=int(input(\"Enter number of times you wanna print\"))\n",
    "for i in range(n):\n",
    "    print(name+\" \")"
   ]
  },
  {
   "cell_type": "code",
   "execution_count": null,
   "id": "41a133bf",
   "metadata": {},
   "outputs": [],
   "source": []
  }
 ],
 "metadata": {
  "kernelspec": {
   "display_name": "Python 3 (ipykernel)",
   "language": "python",
   "name": "python3"
  },
  "language_info": {
   "codemirror_mode": {
    "name": "ipython",
    "version": 3
   },
   "file_extension": ".py",
   "mimetype": "text/x-python",
   "name": "python",
   "nbconvert_exporter": "python",
   "pygments_lexer": "ipython3",
   "version": "3.11.3"
  }
 },
 "nbformat": 4,
 "nbformat_minor": 5
}
