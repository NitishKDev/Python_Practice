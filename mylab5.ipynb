{
 "cells": [
  {
   "cell_type": "markdown",
   "id": "aef617c4",
   "metadata": {},
   "source": [
    "Implement a python program to demonstrate the following using NumPy \n",
    " a) Array manipulation, Searching, Sorting and splitting. \n",
    " b) broadcasting and Plotting NumPy arrays "
   ]
  },
  {
   "cell_type": "code",
   "execution_count": 24,
   "id": "e62996d8",
   "metadata": {},
   "outputs": [],
   "source": [
    "import numpy as np\n",
    "import matplotlib.pyplot as plt\n"
   ]
  },
  {
   "cell_type": "code",
   "execution_count": 25,
   "id": "3ef1f646",
   "metadata": {},
   "outputs": [
    {
     "name": "stdout",
     "output_type": "stream",
     "text": [
      "[34 56 33 23]\n",
      "[12 23 43 11]\n"
     ]
    }
   ],
   "source": [
    "marks1=np.array([34,56,33,23])\n",
    "marks2=np.array([12,23,43,11])\n",
    "print(marks1)\n",
    "print(marks2)"
   ]
  },
  {
   "cell_type": "code",
   "execution_count": 26,
   "id": "5ce0ef7b",
   "metadata": {},
   "outputs": [
    {
     "name": "stdout",
     "output_type": "stream",
     "text": [
      "[34 56 33 23 12 23 43 11]\n",
      "[[34 56]\n",
      " [33 23]\n",
      " [12 23]\n",
      " [43 11]]\n",
      "[[34 33 12 43]\n",
      " [56 23 23 11]]\n"
     ]
    }
   ],
   "source": [
    "#array manipulation\n",
    "concatt=np.concatenate((marks1,marks2))\n",
    "print(concatt)\n",
    "reshape=concatt.reshape(4,2)\n",
    "print(reshape)\n",
    "tran=np.transpose(reshape)\n",
    "print(tran)"
   ]
  },
  {
   "cell_type": "code",
   "execution_count": 27,
   "id": "91adcb0d",
   "metadata": {},
   "outputs": [
    {
     "name": "stdout",
     "output_type": "stream",
     "text": [
      "[11 12 23 23 33 34 43 56]\n"
     ]
    }
   ],
   "source": [
    "#sorting\n",
    "sort=np.sort(concatt)\n",
    "print(sort)"
   ]
  },
  {
   "cell_type": "code",
   "execution_count": 28,
   "id": "ca8f1938",
   "metadata": {},
   "outputs": [
    {
     "name": "stdout",
     "output_type": "stream",
     "text": [
      "(array([5], dtype=int64),)\n"
     ]
    }
   ],
   "source": [
    "#searching\n",
    "sear=np.where(sort==34)\n",
    "print(sear)"
   ]
  },
  {
   "cell_type": "code",
   "execution_count": 29,
   "id": "c13b9662",
   "metadata": {},
   "outputs": [
    {
     "name": "stdout",
     "output_type": "stream",
     "text": [
      "[array([11, 12]), array([23, 23]), array([33, 34]), array([43, 56])]\n",
      "[23 23]\n"
     ]
    }
   ],
   "source": [
    "#splitting\n",
    "spl=np.split(sort,4)\n",
    "print(spl)\n",
    "print(spl[1])"
   ]
  },
  {
   "cell_type": "code",
   "execution_count": 30,
   "id": "76d138e5",
   "metadata": {},
   "outputs": [
    {
     "name": "stdout",
     "output_type": "stream",
     "text": [
      "[ 2  6 12 20]\n"
     ]
    }
   ],
   "source": [
    "#broadcasting\n",
    "a=np.array([1,2,3,4])\n",
    "b=np.array([2,3,4,5])\n",
    "c=a*b\n",
    "print(c)"
   ]
  },
  {
   "cell_type": "code",
   "execution_count": 31,
   "id": "27a956e9",
   "metadata": {},
   "outputs": [
    {
     "name": "stdout",
     "output_type": "stream",
     "text": [
      "[[1 2 3]\n",
      " [4 5 6]]\n",
      "[[11 12 13]\n",
      " [14 15 16]]\n"
     ]
    }
   ],
   "source": [
    "a=np.array([[1,2,3],[4,5,6]])\n",
    "print(a)\n",
    "b=10\n",
    "c=a+b\n",
    "print(c)"
   ]
  },
  {
   "cell_type": "code",
   "execution_count": 32,
   "id": "53182207",
   "metadata": {},
   "outputs": [
    {
     "data": {
      "image/png": "[encoded data removed]",
      "text/plain": [
       "<Figure size 640x480 with 1 Axes>"
      ]
     },
     "metadata": {},
     "output_type": "display_data"
    }
   ],
   "source": [
    "#plotting\n",
    "xpoints = np.array([1, 8])\n",
    "ypoints = np.array([3, 10])\n",
    "plt.plot(xpoints, ypoints)\n",
    "plt.xlabel(\"x\")\n",
    "plt.ylabel(\"y\")\n",
    "plt.title(\"1-3 to 8-10\")\n",
    "plt.show()"
   ]
  },
  {
   "cell_type": "code",
   "execution_count": null,
   "id": "8568c389",
   "metadata": {},
   "outputs": [],
   "source": []
  }
 ],
 "metadata": {
  "kernelspec": {
   "display_name": "Python 3 (ipykernel)",
   "language": "python",
   "name": "python3"
  },
  "language_info": {
   "codemirror_mode": {
    "name": "ipython",
    "version": 3
   },
   "file_extension": ".py",
   "mimetype": "text/x-python",
   "name": "python",
   "nbconvert_exporter": "python",
   "pygments_lexer": "ipython3",
   "version": "3.11.3"
  }
 },
 "nbformat": 4,
 "nbformat_minor": 5
}
