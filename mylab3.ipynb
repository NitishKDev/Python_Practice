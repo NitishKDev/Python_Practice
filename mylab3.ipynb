{
 "cells": [
  {
   "cell_type": "markdown",
   "id": "f90d5ff9",
   "metadata": {},
   "source": [
    "Write a python program using object oriented programming to demonstrate encapsulation, overloading and inheritance"
   ]
  },
  {
   "cell_type": "code",
   "execution_count": 32,
   "id": "05fc840b",
   "metadata": {},
   "outputs": [],
   "source": [
    "#encapsulation\n",
    "class Anime():\n",
    "    def __init__(self,name,age):\n",
    "        self.__name=name\n",
    "        self.__age=age\n",
    "    def setname(self,name):\n",
    "        self.__name=name\n",
    "    def showname(self):\n",
    "        return self.__name\n",
    "    def setage(self,age):\n",
    "        self.__age=age\n",
    "    def showage(self):\n",
    "        return self.__age\n",
    "        "
   ]
  },
  {
   "cell_type": "code",
   "execution_count": 33,
   "id": "695aef08",
   "metadata": {},
   "outputs": [],
   "source": [
    "ani=Anime(\"luffy\",12)"
   ]
  },
  {
   "cell_type": "code",
   "execution_count": 34,
   "id": "4afcefc6",
   "metadata": {},
   "outputs": [],
   "source": [
    "ani.setname(\"naruto\")"
   ]
  },
  {
   "cell_type": "code",
   "execution_count": 35,
   "id": "47da993d",
   "metadata": {},
   "outputs": [
    {
     "data": {
      "text/plain": [
       "'naruto'"
      ]
     },
     "execution_count": 35,
     "metadata": {},
     "output_type": "execute_result"
    }
   ],
   "source": [
    "ani.showname()"
   ]
  },
  {
   "cell_type": "code",
   "execution_count": 36,
   "id": "fb2929ab",
   "metadata": {},
   "outputs": [
    {
     "data": {
      "text/plain": [
       "12"
      ]
     },
     "execution_count": 36,
     "metadata": {},
     "output_type": "execute_result"
    }
   ],
   "source": [
    "ani.showage()"
   ]
  },
  {
   "cell_type": "code",
   "execution_count": null,
   "id": "6372ff64",
   "metadata": {},
   "outputs": [],
   "source": []
  },
  {
   "cell_type": "code",
   "execution_count": 38,
   "id": "5d24eb9f",
   "metadata": {},
   "outputs": [],
   "source": [
    "#overloading\n",
    "class Cat():\n",
    "    def __init__(self,name):\n",
    "        self.name=name\n",
    "    def speak(self):\n",
    "        return self.name+\" meow\"\n",
    "\n",
    "class Dog():\n",
    "    def __init__(self,name):\n",
    "        self.name=name\n",
    "    def speak(self):\n",
    "        return self.name+\" woof\"\n",
    "    "
   ]
  },
  {
   "cell_type": "code",
   "execution_count": 39,
   "id": "08dc36e3",
   "metadata": {},
   "outputs": [],
   "source": [
    "c1=Cat(\"lexie\")\n",
    "d1=Dog(\"barkie\")"
   ]
  },
  {
   "cell_type": "code",
   "execution_count": 41,
   "id": "f88378e9",
   "metadata": {},
   "outputs": [
    {
     "data": {
      "text/plain": [
       "'lexie meow'"
      ]
     },
     "execution_count": 41,
     "metadata": {},
     "output_type": "execute_result"
    }
   ],
   "source": [
    "c1.speak()"
   ]
  },
  {
   "cell_type": "code",
   "execution_count": 42,
   "id": "ae609206",
   "metadata": {},
   "outputs": [
    {
     "data": {
      "text/plain": [
       "'barkie woof'"
      ]
     },
     "execution_count": 42,
     "metadata": {},
     "output_type": "execute_result"
    }
   ],
   "source": [
    "d1.speak()"
   ]
  },
  {
   "cell_type": "code",
   "execution_count": 43,
   "id": "e36c7295",
   "metadata": {},
   "outputs": [],
   "source": [
    "def overloadd(yo):\n",
    "    print(yo.speak())"
   ]
  },
  {
   "cell_type": "code",
   "execution_count": 44,
   "id": "f1572ee2",
   "metadata": {},
   "outputs": [
    {
     "name": "stdout",
     "output_type": "stream",
     "text": [
      "lexie meow\n"
     ]
    }
   ],
   "source": [
    "overloadd(c1)"
   ]
  },
  {
   "cell_type": "code",
   "execution_count": 45,
   "id": "851b7e92",
   "metadata": {},
   "outputs": [
    {
     "name": "stdout",
     "output_type": "stream",
     "text": [
      "barkie woof\n"
     ]
    }
   ],
   "source": [
    "overloadd(d1)"
   ]
  },
  {
   "cell_type": "code",
   "execution_count": null,
   "id": "7a360626",
   "metadata": {},
   "outputs": [],
   "source": []
  },
  {
   "cell_type": "code",
   "execution_count": 46,
   "id": "57892008",
   "metadata": {},
   "outputs": [],
   "source": [
    "#inheritance\n",
    "class Animal():\n",
    "    def __init__(self):\n",
    "        print(\"Animal created\")\n",
    "    def who(self):\n",
    "        print(\"I am aniamal\")\n",
    "    def eat(self):\n",
    "        print(\"i m eting\")   \n",
    "    "
   ]
  },
  {
   "cell_type": "code",
   "execution_count": 47,
   "id": "e950f17b",
   "metadata": {},
   "outputs": [
    {
     "name": "stdout",
     "output_type": "stream",
     "text": [
      "Animal created\n"
     ]
    }
   ],
   "source": [
    "a1=Animal()"
   ]
  },
  {
   "cell_type": "code",
   "execution_count": 48,
   "id": "5f1891db",
   "metadata": {},
   "outputs": [
    {
     "name": "stdout",
     "output_type": "stream",
     "text": [
      "i m eting\n"
     ]
    }
   ],
   "source": [
    "a1.eat()"
   ]
  },
  {
   "cell_type": "code",
   "execution_count": 49,
   "id": "bd1f0378",
   "metadata": {},
   "outputs": [
    {
     "name": "stdout",
     "output_type": "stream",
     "text": [
      "I am aniamal\n"
     ]
    }
   ],
   "source": [
    "a1.who()"
   ]
  },
  {
   "cell_type": "code",
   "execution_count": 50,
   "id": "266ec53e",
   "metadata": {},
   "outputs": [],
   "source": [
    "class Dog(Animal):\n",
    "    def __init__(self):\n",
    "        #Animal.__init__(self)\n",
    "        print(\"dog created\")"
   ]
  },
  {
   "cell_type": "code",
   "execution_count": 51,
   "id": "cf799d84",
   "metadata": {},
   "outputs": [
    {
     "name": "stdout",
     "output_type": "stream",
     "text": [
      "dog created\n"
     ]
    }
   ],
   "source": [
    "d11=Dog()"
   ]
  },
  {
   "cell_type": "code",
   "execution_count": 52,
   "id": "75267925",
   "metadata": {},
   "outputs": [
    {
     "name": "stdout",
     "output_type": "stream",
     "text": [
      "I am aniamal\n"
     ]
    }
   ],
   "source": [
    "d11.who()"
   ]
  },
  {
   "cell_type": "code",
   "execution_count": null,
   "id": "792379e3",
   "metadata": {},
   "outputs": [],
   "source": []
  }
 ],
 "metadata": {
  "kernelspec": {
   "display_name": "Python 3 (ipykernel)",
   "language": "python",
   "name": "python3"
  },
  "language_info": {
   "codemirror_mode": {
    "name": "ipython",
    "version": 3
   },
   "file_extension": ".py",
   "mimetype": "text/x-python",
   "name": "python",
   "nbconvert_exporter": "python",
   "pygments_lexer": "ipython3",
   "version": "3.11.3"
  }
 },
 "nbformat": 4,
 "nbformat_minor": 5
}
