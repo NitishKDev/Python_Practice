{
 "cells": [
  {
   "cell_type": "markdown",
   "id": "c9d12dd8",
   "metadata": {},
   "source": [
    "Handle Divided by Zero Exception."
   ]
  },
  {
   "cell_type": "code",
   "execution_count": 10,
   "id": "9cf81d1e",
   "metadata": {},
   "outputs": [
    {
     "name": "stdout",
     "output_type": "stream",
     "text": [
      "Enter numerator 3\n",
      "Enter denominator 0\n",
      "Denominator cannot be zero\n"
     ]
    }
   ],
   "source": [
    "nume=int(input(\"Enter numerator \"))\n",
    "deno=int(input(\"Enter denominator \"))\n",
    "try:\n",
    "    res=nume/deno\n",
    "    print(res)\n",
    "except ZeroDivisionError:\n",
    "    print(\"Denominator cannot be zero\")"
   ]
  },
  {
   "cell_type": "code",
   "execution_count": null,
   "id": "2a8ca08d",
   "metadata": {},
   "outputs": [],
   "source": []
  }
 ],
 "metadata": {
  "kernelspec": {
   "display_name": "Python 3 (ipykernel)",
   "language": "python",
   "name": "python3"
  },
  "language_info": {
   "codemirror_mode": {
    "name": "ipython",
    "version": 3
   },
   "file_extension": ".py",
   "mimetype": "text/x-python",
   "name": "python",
   "nbconvert_exporter": "python",
   "pygments_lexer": "ipython3",
   "version": "3.11.3"
  }
 },
 "nbformat": 4,
 "nbformat_minor": 5
}
