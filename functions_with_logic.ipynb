{
 "cells": [
  {
   "cell_type": "code",
   "execution_count": 1,
   "id": "ba62e30c",
   "metadata": {},
   "outputs": [
    {
     "data": {
      "text/plain": [
       "2"
      ]
     },
     "execution_count": 1,
     "metadata": {},
     "output_type": "execute_result"
    }
   ],
   "source": [
    "2%3"
   ]
  },
  {
   "cell_type": "code",
   "execution_count": 2,
   "id": "6b29fe6c",
   "metadata": {},
   "outputs": [
    {
     "data": {
      "text/plain": [
       "1"
      ]
     },
     "execution_count": 2,
     "metadata": {},
     "output_type": "execute_result"
    }
   ],
   "source": [
    "4%3"
   ]
  },
  {
   "cell_type": "code",
   "execution_count": 3,
   "id": "18f522a6",
   "metadata": {},
   "outputs": [
    {
     "data": {
      "text/plain": [
       "0"
      ]
     },
     "execution_count": 3,
     "metadata": {},
     "output_type": "execute_result"
    }
   ],
   "source": [
    "2%2"
   ]
  },
  {
   "cell_type": "code",
   "execution_count": 4,
   "id": "55b5dc1b",
   "metadata": {},
   "outputs": [
    {
     "data": {
      "text/plain": [
       "True"
      ]
     },
     "execution_count": 4,
     "metadata": {},
     "output_type": "execute_result"
    }
   ],
   "source": [
    "20%2==0"
   ]
  },
  {
   "cell_type": "code",
   "execution_count": 5,
   "id": "5df0c908",
   "metadata": {},
   "outputs": [
    {
     "data": {
      "text/plain": [
       "False"
      ]
     },
     "execution_count": 5,
     "metadata": {},
     "output_type": "execute_result"
    }
   ],
   "source": [
    "21%2==0"
   ]
  },
  {
   "cell_type": "code",
   "execution_count": 6,
   "id": "1e87c856",
   "metadata": {},
   "outputs": [],
   "source": [
    "def even_chk(num):\n",
    "    if num%2==0:\n",
    "        print(\"even\")\n",
    "    else:\n",
    "        print(\"odd\")"
   ]
  },
  {
   "cell_type": "code",
   "execution_count": 7,
   "id": "0ad742e2",
   "metadata": {},
   "outputs": [
    {
     "name": "stdout",
     "output_type": "stream",
     "text": [
      "even\n"
     ]
    }
   ],
   "source": [
    "even_chk(334)"
   ]
  },
  {
   "cell_type": "code",
   "execution_count": 8,
   "id": "05985c8f",
   "metadata": {},
   "outputs": [
    {
     "name": "stdout",
     "output_type": "stream",
     "text": [
      "odd\n"
     ]
    }
   ],
   "source": [
    "even_chk(91)"
   ]
  },
  {
   "cell_type": "code",
   "execution_count": 9,
   "id": "aa586ca8",
   "metadata": {},
   "outputs": [],
   "source": [
    "def even_chk(n):\n",
    "    r=n%2==0\n",
    "    return r"
   ]
  },
  {
   "cell_type": "code",
   "execution_count": 10,
   "id": "6b659e1d",
   "metadata": {},
   "outputs": [
    {
     "data": {
      "text/plain": [
       "True"
      ]
     },
     "execution_count": 10,
     "metadata": {},
     "output_type": "execute_result"
    }
   ],
   "source": [
    "even_chk(10)"
   ]
  },
  {
   "cell_type": "code",
   "execution_count": 11,
   "id": "6169bd99",
   "metadata": {},
   "outputs": [
    {
     "data": {
      "text/plain": [
       "False"
      ]
     },
     "execution_count": 11,
     "metadata": {},
     "output_type": "execute_result"
    }
   ],
   "source": [
    "even_chk(9)"
   ]
  },
  {
   "cell_type": "code",
   "execution_count": 12,
   "id": "83b8c213",
   "metadata": {},
   "outputs": [],
   "source": [
    "def even_chk(n):\n",
    "    return n%2==0"
   ]
  },
  {
   "cell_type": "code",
   "execution_count": 13,
   "id": "1138c11d",
   "metadata": {},
   "outputs": [
    {
     "data": {
      "text/plain": [
       "False"
      ]
     },
     "execution_count": 13,
     "metadata": {},
     "output_type": "execute_result"
    }
   ],
   "source": [
    "even_chk(9)"
   ]
  },
  {
   "cell_type": "code",
   "execution_count": 14,
   "id": "b85bb626",
   "metadata": {},
   "outputs": [
    {
     "data": {
      "text/plain": [
       "True"
      ]
     },
     "execution_count": 14,
     "metadata": {},
     "output_type": "execute_result"
    }
   ],
   "source": [
    "even_chk(90)"
   ]
  },
  {
   "cell_type": "code",
   "execution_count": 15,
   "id": "8b30d20d",
   "metadata": {},
   "outputs": [],
   "source": [
    "#return true if any number inside list is even\n"
   ]
  },
  {
   "cell_type": "code",
   "execution_count": 16,
   "id": "c0408ead",
   "metadata": {},
   "outputs": [],
   "source": [
    "def chk_evn_list(mylist):\n",
    "    for n in mylist:\n",
    "        if n%2==0:\n",
    "            return True\n",
    "        else:\n",
    "            pass"
   ]
  },
  {
   "cell_type": "code",
   "execution_count": 17,
   "id": "796536f2",
   "metadata": {},
   "outputs": [],
   "source": [
    "chk_evn_list([1,3,5])"
   ]
  },
  {
   "cell_type": "code",
   "execution_count": 18,
   "id": "bcde7d36",
   "metadata": {},
   "outputs": [
    {
     "data": {
      "text/plain": [
       "True"
      ]
     },
     "execution_count": 18,
     "metadata": {},
     "output_type": "execute_result"
    }
   ],
   "source": [
    "chk_evn_list([2,43,5])"
   ]
  },
  {
   "cell_type": "code",
   "execution_count": 19,
   "id": "7e93dc7a",
   "metadata": {},
   "outputs": [],
   "source": [
    "def chk_evn_list(mylist):\n",
    "    for n in mylist:\n",
    "        if n%2==0:\n",
    "            return True\n",
    "        else:\n",
    "            pass\n",
    "    return False"
   ]
  },
  {
   "cell_type": "code",
   "execution_count": 20,
   "id": "a3f2ec89",
   "metadata": {},
   "outputs": [
    {
     "data": {
      "text/plain": [
       "False"
      ]
     },
     "execution_count": 20,
     "metadata": {},
     "output_type": "execute_result"
    }
   ],
   "source": [
    "chk_evn_list([1,3,5])"
   ]
  },
  {
   "cell_type": "code",
   "execution_count": 22,
   "id": "11cfb999",
   "metadata": {},
   "outputs": [
    {
     "data": {
      "text/plain": [
       "True"
      ]
     },
     "execution_count": 22,
     "metadata": {},
     "output_type": "execute_result"
    }
   ],
   "source": [
    "chk_evn_list([2,4,22])"
   ]
  },
  {
   "cell_type": "code",
   "execution_count": 27,
   "id": "d95c2130",
   "metadata": {},
   "outputs": [],
   "source": [
    "def chk_evn_list(mylist):\n",
    "    evnlst=[]\n",
    "    for n in mylist:\n",
    "        if n%2==0:\n",
    "            evnlst.append(n)\n",
    "        else:\n",
    "            pass\n",
    "    return evnlst"
   ]
  },
  {
   "cell_type": "code",
   "execution_count": 28,
   "id": "42d193b2",
   "metadata": {},
   "outputs": [
    {
     "data": {
      "text/plain": [
       "[2, 4, 6]"
      ]
     },
     "execution_count": 28,
     "metadata": {},
     "output_type": "execute_result"
    }
   ],
   "source": [
    "chk_evn_list([2,3,4,5,6])"
   ]
  },
  {
   "cell_type": "code",
   "execution_count": 29,
   "id": "b4259614",
   "metadata": {},
   "outputs": [
    {
     "data": {
      "text/plain": [
       "[]"
      ]
     },
     "execution_count": 29,
     "metadata": {},
     "output_type": "execute_result"
    }
   ],
   "source": [
    "chk_evn_list([3,5,7])"
   ]
  },
  {
   "cell_type": "code",
   "execution_count": null,
   "id": "daadd9de",
   "metadata": {},
   "outputs": [],
   "source": []
  }
 ],
 "metadata": {
  "kernelspec": {
   "display_name": "Python 3 (ipykernel)",
   "language": "python",
   "name": "python3"
  },
  "language_info": {
   "codemirror_mode": {
    "name": "ipython",
    "version": 3
   },
   "file_extension": ".py",
   "mimetype": "text/x-python",
   "name": "python",
   "nbconvert_exporter": "python",
   "pygments_lexer": "ipython3",
   "version": "3.11.3"
  }
 },
 "nbformat": 4,
 "nbformat_minor": 5
}
