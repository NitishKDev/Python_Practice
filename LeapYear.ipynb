{
 "cells": [
  {
   "cell_type": "code",
   "execution_count": 12,
   "id": "c7425053",
   "metadata": {},
   "outputs": [
    {
     "name": "stdout",
     "output_type": "stream",
     "text": [
      "Enter the year: 2028\n",
      "It is leap year\n"
     ]
    }
   ],
   "source": [
    "def leapyear():\n",
    "    year = int(input(\"Enter the year: \"))\n",
    "    if(year%100==0 and year%400==0):\n",
    "        return print('It is leap year')\n",
    "    elif(year%100!=0 and year%4==0):\n",
    "        return print('It is leap year')\n",
    "    else:\n",
    "        return print('It is not leap year')\n",
    "leapyear()"
   ]
  },
  {
   "cell_type": "code",
   "execution_count": null,
   "id": "abdaed71",
   "metadata": {},
   "outputs": [],
   "source": []
  }
 ],
 "metadata": {
  "kernelspec": {
   "display_name": "Python 3 (ipykernel)",
   "language": "python",
   "name": "python3"
  },
  "language_info": {
   "codemirror_mode": {
    "name": "ipython",
    "version": 3
   },
   "file_extension": ".py",
   "mimetype": "text/x-python",
   "name": "python",
   "nbconvert_exporter": "python",
   "pygments_lexer": "ipython3",
   "version": "3.11.3"
  }
 },
 "nbformat": 4,
 "nbformat_minor": 5
}
