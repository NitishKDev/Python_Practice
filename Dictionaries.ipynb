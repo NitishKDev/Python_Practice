{
 "cells": [
  {
   "cell_type": "code",
   "execution_count": 1,
   "id": "fa8e580c",
   "metadata": {},
   "outputs": [],
   "source": [
    "mydict={'k1':'v1','k2':'v2'}"
   ]
  },
  {
   "cell_type": "code",
   "execution_count": 2,
   "id": "09defd14",
   "metadata": {},
   "outputs": [
    {
     "data": {
      "text/plain": [
       "{'k1': 'v1', 'k2': 'v2'}"
      ]
     },
     "execution_count": 2,
     "metadata": {},
     "output_type": "execute_result"
    }
   ],
   "source": [
    "mydict"
   ]
  },
  {
   "cell_type": "code",
   "execution_count": 4,
   "id": "8caeb7d9",
   "metadata": {},
   "outputs": [
    {
     "data": {
      "text/plain": [
       "'v2'"
      ]
     },
     "execution_count": 4,
     "metadata": {},
     "output_type": "execute_result"
    }
   ],
   "source": [
    "mydict['k2']"
   ]
  },
  {
   "cell_type": "code",
   "execution_count": 5,
   "id": "7605c16b",
   "metadata": {},
   "outputs": [],
   "source": [
    "price_lookup={'apple':23,'orange':43,'kiwi':66}"
   ]
  },
  {
   "cell_type": "code",
   "execution_count": 6,
   "id": "4b0e5ba3",
   "metadata": {},
   "outputs": [
    {
     "data": {
      "text/plain": [
       "66"
      ]
     },
     "execution_count": 6,
     "metadata": {},
     "output_type": "execute_result"
    }
   ],
   "source": [
    "price_lookup['kiwi']"
   ]
  },
  {
   "cell_type": "code",
   "execution_count": 7,
   "id": "9197c56e",
   "metadata": {},
   "outputs": [],
   "source": [
    "d={'key':234,'li':[3,4,5],'insdic':{'p1':'maki','p2':45}}"
   ]
  },
  {
   "cell_type": "code",
   "execution_count": 8,
   "id": "0215e10a",
   "metadata": {},
   "outputs": [
    {
     "data": {
      "text/plain": [
       "[3, 4, 5]"
      ]
     },
     "execution_count": 8,
     "metadata": {},
     "output_type": "execute_result"
    }
   ],
   "source": [
    "d['li']"
   ]
  },
  {
   "cell_type": "code",
   "execution_count": 9,
   "id": "4c0378aa",
   "metadata": {},
   "outputs": [
    {
     "data": {
      "text/plain": [
       "{'p1': 'maki', 'p2': 45}"
      ]
     },
     "execution_count": 9,
     "metadata": {},
     "output_type": "execute_result"
    }
   ],
   "source": [
    "d['insdic']"
   ]
  },
  {
   "cell_type": "code",
   "execution_count": 10,
   "id": "f0795a8c",
   "metadata": {},
   "outputs": [
    {
     "data": {
      "text/plain": [
       "45"
      ]
     },
     "execution_count": 10,
     "metadata": {},
     "output_type": "execute_result"
    }
   ],
   "source": [
    "d['insdic']['p2']"
   ]
  },
  {
   "cell_type": "code",
   "execution_count": 11,
   "id": "02d899ae",
   "metadata": {},
   "outputs": [
    {
     "data": {
      "text/plain": [
       "3"
      ]
     },
     "execution_count": 11,
     "metadata": {},
     "output_type": "execute_result"
    }
   ],
   "source": [
    "d['li'][0]"
   ]
  },
  {
   "cell_type": "code",
   "execution_count": 12,
   "id": "b405b03f",
   "metadata": {},
   "outputs": [],
   "source": [
    "mup={'ke':['c','t','y']}"
   ]
  },
  {
   "cell_type": "code",
   "execution_count": 13,
   "id": "673d4952",
   "metadata": {},
   "outputs": [
    {
     "data": {
      "text/plain": [
       "{'ke': ['c', 't', 'y']}"
      ]
     },
     "execution_count": 13,
     "metadata": {},
     "output_type": "execute_result"
    }
   ],
   "source": [
    "mup"
   ]
  },
  {
   "cell_type": "code",
   "execution_count": 14,
   "id": "18c13de2",
   "metadata": {},
   "outputs": [],
   "source": [
    "mylist=mup['ke']"
   ]
  },
  {
   "cell_type": "code",
   "execution_count": 15,
   "id": "a8268a85",
   "metadata": {},
   "outputs": [
    {
     "data": {
      "text/plain": [
       "['c', 't', 'y']"
      ]
     },
     "execution_count": 15,
     "metadata": {},
     "output_type": "execute_result"
    }
   ],
   "source": [
    "mylist"
   ]
  },
  {
   "cell_type": "code",
   "execution_count": 16,
   "id": "84277fda",
   "metadata": {},
   "outputs": [],
   "source": [
    "letr=mylist[1]"
   ]
  },
  {
   "cell_type": "code",
   "execution_count": 17,
   "id": "3faf068f",
   "metadata": {},
   "outputs": [
    {
     "data": {
      "text/plain": [
       "'t'"
      ]
     },
     "execution_count": 17,
     "metadata": {},
     "output_type": "execute_result"
    }
   ],
   "source": [
    "letr"
   ]
  },
  {
   "cell_type": "code",
   "execution_count": 18,
   "id": "b7a0e471",
   "metadata": {},
   "outputs": [
    {
     "data": {
      "text/plain": [
       "'T'"
      ]
     },
     "execution_count": 18,
     "metadata": {},
     "output_type": "execute_result"
    }
   ],
   "source": [
    "letr.upper()"
   ]
  },
  {
   "cell_type": "code",
   "execution_count": 19,
   "id": "e64c9cbd",
   "metadata": {},
   "outputs": [
    {
     "data": {
      "text/plain": [
       "'Y'"
      ]
     },
     "execution_count": 19,
     "metadata": {},
     "output_type": "execute_result"
    }
   ],
   "source": [
    "mup['ke'][2].upper()"
   ]
  },
  {
   "cell_type": "code",
   "execution_count": 20,
   "id": "c515bee8",
   "metadata": {},
   "outputs": [],
   "source": [
    "dictu={'k1':34,'k2':78}"
   ]
  },
  {
   "cell_type": "code",
   "execution_count": 21,
   "id": "80330c56",
   "metadata": {},
   "outputs": [
    {
     "data": {
      "text/plain": [
       "{'k1': 34, 'k2': 78}"
      ]
     },
     "execution_count": 21,
     "metadata": {},
     "output_type": "execute_result"
    }
   ],
   "source": [
    "dictu"
   ]
  },
  {
   "cell_type": "code",
   "execution_count": 22,
   "id": "cc548508",
   "metadata": {},
   "outputs": [],
   "source": [
    "dictu['k4']=90"
   ]
  },
  {
   "cell_type": "code",
   "execution_count": 23,
   "id": "57d70776",
   "metadata": {},
   "outputs": [
    {
     "data": {
      "text/plain": [
       "{'k1': 34, 'k2': 78, 'k4': 90}"
      ]
     },
     "execution_count": 23,
     "metadata": {},
     "output_type": "execute_result"
    }
   ],
   "source": [
    "dictu"
   ]
  },
  {
   "cell_type": "code",
   "execution_count": 24,
   "id": "e2d151c8",
   "metadata": {},
   "outputs": [],
   "source": [
    "dictu['k1']='neww'"
   ]
  },
  {
   "cell_type": "code",
   "execution_count": 25,
   "id": "bbc1fb6c",
   "metadata": {},
   "outputs": [
    {
     "data": {
      "text/plain": [
       "{'k1': 'neww', 'k2': 78, 'k4': 90}"
      ]
     },
     "execution_count": 25,
     "metadata": {},
     "output_type": "execute_result"
    }
   ],
   "source": [
    "dictu"
   ]
  },
  {
   "cell_type": "code",
   "execution_count": 26,
   "id": "14c5b1fb",
   "metadata": {},
   "outputs": [
    {
     "data": {
      "text/plain": [
       "dict_keys(['k1', 'k2', 'k4'])"
      ]
     },
     "execution_count": 26,
     "metadata": {},
     "output_type": "execute_result"
    }
   ],
   "source": [
    "dictu.keys()"
   ]
  },
  {
   "cell_type": "code",
   "execution_count": 27,
   "id": "e50671ef",
   "metadata": {},
   "outputs": [
    {
     "data": {
      "text/plain": [
       "dict_values(['neww', 78, 90])"
      ]
     },
     "execution_count": 27,
     "metadata": {},
     "output_type": "execute_result"
    }
   ],
   "source": [
    "dictu.values()"
   ]
  },
  {
   "cell_type": "code",
   "execution_count": 28,
   "id": "1c4f2868",
   "metadata": {},
   "outputs": [
    {
     "data": {
      "text/plain": [
       "dict_items([('k1', 'neww'), ('k2', 78), ('k4', 90)])"
      ]
     },
     "execution_count": 28,
     "metadata": {},
     "output_type": "execute_result"
    }
   ],
   "source": [
    "dictu.items()"
   ]
  },
  {
   "cell_type": "code",
   "execution_count": null,
   "id": "b65c582d",
   "metadata": {},
   "outputs": [],
   "source": []
  }
 ],
 "metadata": {
  "kernelspec": {
   "display_name": "Python 3 (ipykernel)",
   "language": "python",
   "name": "python3"
  },
  "language_info": {
   "codemirror_mode": {
    "name": "ipython",
    "version": 3
   },
   "file_extension": ".py",
   "mimetype": "text/x-python",
   "name": "python",
   "nbconvert_exporter": "python",
   "pygments_lexer": "ipython3",
   "version": "3.11.3"
  }
 },
 "nbformat": 4,
 "nbformat_minor": 5
}
