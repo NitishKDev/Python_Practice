{
 "cells": [
  {
   "cell_type": "markdown",
   "id": "a3d882c7",
   "metadata": {},
   "source": [
    "Print current time for 10 times with an interval of 10 seconds."
   ]
  },
  {
   "cell_type": "code",
   "execution_count": 3,
   "id": "4adefe96",
   "metadata": {},
   "outputs": [
    {
     "name": "stdout",
     "output_type": "stream",
     "text": [
      "23:40:57\n",
      "23:41:07\n",
      "23:41:17\n",
      "23:41:27\n",
      "23:41:37\n",
      "23:41:47\n",
      "23:41:57\n",
      "23:42:07\n",
      "23:42:17\n",
      "23:42:27\n"
     ]
    }
   ],
   "source": [
    "import time\n",
    "for i in range(10):\n",
    "    print(time.strftime(\"%H:%M:%S\",time.localtime()))\n",
    "    time.sleep(10)"
   ]
  },
  {
   "cell_type": "code",
   "execution_count": null,
   "id": "d540b5be",
   "metadata": {},
   "outputs": [],
   "source": []
  }
 ],
 "metadata": {
  "kernelspec": {
   "display_name": "Python 3 (ipykernel)",
   "language": "python",
   "name": "python3"
  },
  "language_info": {
   "codemirror_mode": {
    "name": "ipython",
    "version": 3
   },
   "file_extension": ".py",
   "mimetype": "text/x-python",
   "name": "python",
   "nbconvert_exporter": "python",
   "pygments_lexer": "ipython3",
   "version": "3.11.3"
  }
 },
 "nbformat": 4,
 "nbformat_minor": 5
}
