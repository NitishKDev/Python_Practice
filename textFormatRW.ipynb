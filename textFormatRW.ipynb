{
 "cells": [
  {
   "cell_type": "code",
   "execution_count": 1,
   "id": "5aceb39b",
   "metadata": {},
   "outputs": [
    {
     "name": "stdout",
     "output_type": "stream",
     "text": [
      "Enter string you want to write into filehello jack.\n"
     ]
    }
   ],
   "source": [
    "f=open(\"textjack.txt\",\"w\")\n",
    "stringg=(input(\"Enter string you want to write into file\"))\n",
    "f.write(stringg)\n",
    "f.close()"
   ]
  },
  {
   "cell_type": "code",
   "execution_count": 2,
   "id": "ac461d38",
   "metadata": {},
   "outputs": [
    {
     "name": "stdout",
     "output_type": "stream",
     "text": [
      "hello jack.\n"
     ]
    }
   ],
   "source": [
    "t=open(\"textjack.txt\",\"r\")\n",
    "print(t.read())"
   ]
  },
  {
   "cell_type": "code",
   "execution_count": 3,
   "id": "fae713c5",
   "metadata": {},
   "outputs": [
    {
     "name": "stdout",
     "output_type": "stream",
     "text": [
      "hello jack.\n"
     ]
    }
   ],
   "source": [
    "t.seek(0)\n",
    "print(t.readline())"
   ]
  },
  {
   "cell_type": "code",
   "execution_count": 4,
   "id": "a999b1bb",
   "metadata": {},
   "outputs": [
    {
     "name": "stdout",
     "output_type": "stream",
     "text": [
      "hell\n"
     ]
    }
   ],
   "source": [
    "t.seek(0)\n",
    "print(t.read(4))"
   ]
  },
  {
   "cell_type": "code",
   "execution_count": 5,
   "id": "5e4a5764",
   "metadata": {},
   "outputs": [
    {
     "name": "stdout",
     "output_type": "stream",
     "text": [
      "hello jack.\n"
     ]
    }
   ],
   "source": [
    "t.seek(0)\n",
    "print(t.read())"
   ]
  },
  {
   "cell_type": "code",
   "execution_count": 6,
   "id": "bbf543a5",
   "metadata": {},
   "outputs": [],
   "source": [
    "t.close()"
   ]
  },
  {
   "cell_type": "code",
   "execution_count": 7,
   "id": "4c93aa7f",
   "metadata": {},
   "outputs": [
    {
     "name": "stdout",
     "output_type": "stream",
     "text": [
      "Enter string you want to append into filehow are you doing?\n"
     ]
    }
   ],
   "source": [
    "f=open(\"textjack.txt\",\"a\")\n",
    "stringg=(input(\"Enter string you want to append into file\"))\n",
    "f.write(stringg)\n",
    "f.close()"
   ]
  },
  {
   "cell_type": "code",
   "execution_count": 8,
   "id": "8f3b719d",
   "metadata": {},
   "outputs": [
    {
     "name": "stdout",
     "output_type": "stream",
     "text": [
      "hello jack.how are you doing?\n"
     ]
    }
   ],
   "source": [
    "t=open(\"textjack.txt\",\"r\")\n",
    "print(t.read())\n",
    "t.close()"
   ]
  },
  {
   "cell_type": "code",
   "execution_count": 9,
   "id": "32bf227a",
   "metadata": {
    "scrolled": true
   },
   "outputs": [
    {
     "name": "stdout",
     "output_type": "stream",
     "text": [
      "File deleted\n"
     ]
    }
   ],
   "source": [
    "import os\n",
    "if os.path.exists(\"textjack.txt\"):\n",
    "    os.remove(\"textjack.txt\")\n",
    "    print(\"File deleted\")\n",
    "else:\n",
    "    print(\"File does not exist\")"
   ]
  },
  {
   "cell_type": "code",
   "execution_count": null,
   "id": "bffaa304",
   "metadata": {},
   "outputs": [],
   "source": []
  }
 ],
 "metadata": {
  "kernelspec": {
   "display_name": "Python 3 (ipykernel)",
   "language": "python",
   "name": "python3"
  },
  "language_info": {
   "codemirror_mode": {
    "name": "ipython",
    "version": 3
   },
   "file_extension": ".py",
   "mimetype": "text/x-python",
   "name": "python",
   "nbconvert_exporter": "python",
   "pygments_lexer": "ipython3",
   "version": "3.11.3"
  }
 },
 "nbformat": 4,
 "nbformat_minor": 5
}
