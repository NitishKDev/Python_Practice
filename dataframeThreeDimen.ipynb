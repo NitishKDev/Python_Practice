{
 "cells": [
  {
   "cell_type": "markdown",
   "id": "b78aa4ef",
   "metadata": {},
   "source": [
    "create a dataframe with three dimensional list , state, year, POP(dictionary). write necessary coding for retrieving row values and modifying column values."
   ]
  },
  {
   "cell_type": "code",
   "execution_count": 2,
   "id": "c63daa33",
   "metadata": {},
   "outputs": [
    {
     "name": "stdout",
     "output_type": "stream",
     "text": [
      "DataFrame:\n",
      "        State  Year  Population\n",
      "0    New York  2020     8398748\n",
      "1    New York  2021     8419600\n",
      "2  California  2020    39538223\n",
      "3  California  2021    39865590\n",
      "4       Texas  2020    28995881\n",
      "5       Texas  2021    29145505\n",
      "\n",
      "Retrieving row values:\n",
      "Row 0:\n",
      "State         New York\n",
      "Year              2020\n",
      "Population     8398748\n",
      "Name: 0, dtype: object\n",
      "\n",
      "Row where State is 'Texas' and Year is 2020:\n",
      "   State  Year  Population\n",
      "4  Texas  2020    28995881\n",
      "\n",
      "Modifying column values:\n",
      "Modified DataFrame:\n",
      "        State  Year  Population\n",
      "0    New York  2020     8398748\n",
      "1    New York  2021     8419600\n",
      "2  California  2020    40000000\n",
      "3  California  2021    40000000\n",
      "4       Texas  2020    28995881\n",
      "5       Texas  2021    29145505\n"
     ]
    }
   ],
   "source": [
    "import pandas as pd\n",
    "\n",
    "# Define the three-dimensional list\n",
    "data = [\n",
    "    [['New York', 2020, 8398748], ['New York', 2021, 8419600]],\n",
    "    [['California', 2020, 39538223], ['California', 2021, 39865590]],\n",
    "    [['Texas', 2020, 28995881], ['Texas', 2021, 29145505]]\n",
    "]\n",
    "\n",
    "# Flatten the three-dimensional list\n",
    "flattened_data = [entry for sublist in data for entry in sublist]\n",
    "\n",
    "# Create a DataFrame from the flattened list\n",
    "df = pd.DataFrame(flattened_data, columns=['State', 'Year', 'Population'])\n",
    "\n",
    "# Print the DataFrame\n",
    "print(\"DataFrame:\")\n",
    "print(df)\n",
    "\n",
    "# Retrieve row values\n",
    "print(\"\\nRetrieving row values:\")\n",
    "print(\"Row 0:\")\n",
    "print(df.iloc[0])  # Retrieve the first row\n",
    "print(\"\\nRow where State is 'Texas' and Year is 2020:\")\n",
    "print(df[(df['State'] == 'Texas') & (df['Year'] == 2020)])  # Retrieve rows based on condition\n",
    "\n",
    "# Modify column values\n",
    "print(\"\\nModifying column values:\")\n",
    "df.loc[df['State'] == 'California', 'Population'] = 40000000  # Modify population for California\n",
    "print(\"Modified DataFrame:\")\n",
    "print(df)\n"
   ]
  },
  {
   "cell_type": "code",
   "execution_count": null,
   "id": "63e2a56d",
   "metadata": {},
   "outputs": [],
   "source": []
  }
 ],
 "metadata": {
  "kernelspec": {
   "display_name": "Python 3 (ipykernel)",
   "language": "python",
   "name": "python3"
  },
  "language_info": {
   "codemirror_mode": {
    "name": "ipython",
    "version": 3
   },
   "file_extension": ".py",
   "mimetype": "text/x-python",
   "name": "python",
   "nbconvert_exporter": "python",
   "pygments_lexer": "ipython3",
   "version": "3.11.3"
  }
 },
 "nbformat": 4,
 "nbformat_minor": 5
}
