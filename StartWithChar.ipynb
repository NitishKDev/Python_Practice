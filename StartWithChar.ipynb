{
 "cells": [
  {
   "cell_type": "code",
   "execution_count": 25,
   "id": "a36d863a",
   "metadata": {},
   "outputs": [
    {
     "name": "stdout",
     "output_type": "stream",
     "text": [
      "Enter the string print the word that start with s then shock \n",
      "Enter the character with which you want word s\n",
      "start\n",
      "s\n",
      "shock\n"
     ]
    }
   ],
   "source": [
    "str=input(\"Enter the string \")\n",
    "ch=input(\"Enter the character with which you want word \")\n",
    "my_list=str.split()\n",
    "for word in my_list:\n",
    "    if(word[0]==ch):\n",
    "           print(word)\n",
    " "
   ]
  },
  {
   "cell_type": "code",
   "execution_count": null,
   "id": "c24ac179",
   "metadata": {},
   "outputs": [],
   "source": []
  }
 ],
 "metadata": {
  "kernelspec": {
   "display_name": "Python 3 (ipykernel)",
   "language": "python",
   "name": "python3"
  },
  "language_info": {
   "codemirror_mode": {
    "name": "ipython",
    "version": 3
   },
   "file_extension": ".py",
   "mimetype": "text/x-python",
   "name": "python",
   "nbconvert_exporter": "python",
   "pygments_lexer": "ipython3",
   "version": "3.11.3"
  }
 },
 "nbformat": 4,
 "nbformat_minor": 5
}
