{
 "cells": [
  {
   "cell_type": "code",
   "execution_count": 3,
   "id": "9fd7c191",
   "metadata": {},
   "outputs": [
    {
     "name": "stdout",
     "output_type": "stream",
     "text": [
      "Enter the radius of the circle: 2\n",
      "Perimeter of circle is: 12.568\n"
     ]
    }
   ],
   "source": [
    "def perimeter():\n",
    "    PI=3.142\n",
    "    radius = float(input(\"Enter the radius of the circle: \"))\n",
    "    p=2*PI*radius\n",
    "    return print('Perimeter of circle is:' ,p)\n",
    "perimeter()"
   ]
  },
  {
   "cell_type": "code",
   "execution_count": null,
   "id": "e0c63523",
   "metadata": {},
   "outputs": [],
   "source": []
  }
 ],
 "metadata": {
  "kernelspec": {
   "display_name": "Python 3 (ipykernel)",
   "language": "python",
   "name": "python3"
  },
  "language_info": {
   "codemirror_mode": {
    "name": "ipython",
    "version": 3
   },
   "file_extension": ".py",
   "mimetype": "text/x-python",
   "name": "python",
   "nbconvert_exporter": "python",
   "pygments_lexer": "ipython3",
   "version": "3.11.3"
  }
 },
 "nbformat": 4,
 "nbformat_minor": 5
}
