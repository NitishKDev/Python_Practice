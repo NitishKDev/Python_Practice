{
 "cells": [
  {
   "cell_type": "code",
   "execution_count": 2,
   "id": "6d29b8a7",
   "metadata": {},
   "outputs": [
    {
     "name": "stdout",
     "output_type": "stream",
     "text": [
      "Enter the principal: 100\n",
      "Enter the rate: 18\n",
      "Enter the time: 3\n",
      "Simple Interest is: 54.0\n"
     ]
    }
   ],
   "source": [
    "def SimpleInterest():\n",
    "    p = float(input(\"Enter the principal: \"))\n",
    "    r = float(input(\"Enter the rate: \"))\n",
    "    t = float(input(\"Enter the time: \"))\n",
    "    si=(p*r*t)/100\n",
    "    return print('Simple Interest is:' ,si)\n",
    "SimpleInterest()\n"
   ]
  },
  {
   "cell_type": "code",
   "execution_count": null,
   "id": "0a85cb00",
   "metadata": {},
   "outputs": [],
   "source": []
  }
 ],
 "metadata": {
  "kernelspec": {
   "display_name": "Python 3 (ipykernel)",
   "language": "python",
   "name": "python3"
  },
  "language_info": {
   "codemirror_mode": {
    "name": "ipython",
    "version": 3
   },
   "file_extension": ".py",
   "mimetype": "text/x-python",
   "name": "python",
   "nbconvert_exporter": "python",
   "pygments_lexer": "ipython3",
   "version": "3.11.3"
  }
 },
 "nbformat": 4,
 "nbformat_minor": 5
}
