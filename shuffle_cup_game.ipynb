{
 "cells": [
  {
   "cell_type": "code",
   "execution_count": 4,
   "id": "acdb902d",
   "metadata": {},
   "outputs": [],
   "source": [
    "my_cup=[' ','O',' ']\n",
    "from random import shuffle\n",
    "def shuffle_cup(sf):\n",
    "    shuffle(sf)\n",
    "    return(sf)"
   ]
  },
  {
   "cell_type": "code",
   "execution_count": 5,
   "id": "feaa0b8c",
   "metadata": {},
   "outputs": [],
   "source": [
    "result=shuffle_cup(my_cup)"
   ]
  },
  {
   "cell_type": "code",
   "execution_count": 6,
   "id": "f10ecf66",
   "metadata": {},
   "outputs": [
    {
     "data": {
      "text/plain": [
       "['O', ' ', ' ']"
      ]
     },
     "execution_count": 6,
     "metadata": {},
     "output_type": "execute_result"
    }
   ],
   "source": [
    "result"
   ]
  },
  {
   "cell_type": "code",
   "execution_count": 9,
   "id": "cc8d1649",
   "metadata": {},
   "outputs": [],
   "source": [
    "def player_guess():\n",
    "    guess=''\n",
    "    while guess not in ['0','1','2']:\n",
    "        guess=input(\"Enter guess 0,1 or 2 \")\n",
    "    return int(guess)"
   ]
  },
  {
   "cell_type": "code",
   "execution_count": 10,
   "id": "45ee2e17",
   "metadata": {},
   "outputs": [
    {
     "name": "stdout",
     "output_type": "stream",
     "text": [
      "Enter guess 0,1 or 2 1\n"
     ]
    }
   ],
   "source": [
    "my_index=player_guess()"
   ]
  },
  {
   "cell_type": "code",
   "execution_count": 11,
   "id": "250c115d",
   "metadata": {},
   "outputs": [
    {
     "data": {
      "text/plain": [
       "1"
      ]
     },
     "execution_count": 11,
     "metadata": {},
     "output_type": "execute_result"
    }
   ],
   "source": [
    "my_index"
   ]
  },
  {
   "cell_type": "code",
   "execution_count": 21,
   "id": "b131ca79",
   "metadata": {},
   "outputs": [],
   "source": [
    "def check_guess(my_cup,guess):\n",
    "    if(my_cup[guess]=='O'):\n",
    "        print(\"Correct guess\")\n",
    "    else:\n",
    "        print(\"Wrong guess\")\n",
    "        print(my_cup)"
   ]
  },
  {
   "cell_type": "code",
   "execution_count": 22,
   "id": "ce673228",
   "metadata": {},
   "outputs": [
    {
     "name": "stdout",
     "output_type": "stream",
     "text": [
      "Enter guess 0,1 or 2 1\n",
      "Wrong guess\n",
      "['O', ' ', ' ']\n"
     ]
    }
   ],
   "source": [
    "my_cup=[' ','O',' ']\n",
    "mixed_list=shuffle_cup(my_cup)\n",
    "guess=player_guess()\n",
    "check_guess(mixed_list,guess)"
   ]
  },
  {
   "cell_type": "code",
   "execution_count": null,
   "id": "a9402d06",
   "metadata": {},
   "outputs": [],
   "source": []
  }
 ],
 "metadata": {
  "kernelspec": {
   "display_name": "Python 3 (ipykernel)",
   "language": "python",
   "name": "python3"
  },
  "language_info": {
   "codemirror_mode": {
    "name": "ipython",
    "version": 3
   },
   "file_extension": ".py",
   "mimetype": "text/x-python",
   "name": "python",
   "nbconvert_exporter": "python",
   "pygments_lexer": "ipython3",
   "version": "3.11.3"
  }
 },
 "nbformat": 4,
 "nbformat_minor": 5
}
