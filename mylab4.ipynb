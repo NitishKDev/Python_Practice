{
 "cells": [
  {
   "cell_type": "markdown",
   "id": "3b8b828b",
   "metadata": {},
   "source": [
    "Implement a python program to demonstrate \n",
    " 1) Importing Datasets 2) Cleaning the Data 3) Data frame manipulation using Numpy "
   ]
  },
  {
   "cell_type": "code",
   "execution_count": 6,
   "id": "fe67022d",
   "metadata": {},
   "outputs": [
    {
     "name": "stdout",
     "output_type": "stream",
     "text": [
      "    name    id  marks\n",
      "0  luffy  22.0   45.0\n",
      "1   zoro  23.0   65.0\n",
      "2    NaN   NaN    NaN\n",
      "3  sanji  32.0   77.0\n",
      "4   nami  43.0   88.0\n"
     ]
    }
   ],
   "source": [
    "import pandas as pd\n",
    "import numpy as np\n",
    "data=pd.read_csv(\"student.csv\")\n",
    "print(data)"
   ]
  },
  {
   "cell_type": "code",
   "execution_count": 39,
   "id": "bee67015",
   "metadata": {},
   "outputs": [
    {
     "name": "stdout",
     "output_type": "stream",
     "text": [
      "    name    id  marks\n",
      "0  luffy  22.0   45.0\n",
      "1   zoro  23.0   65.0\n",
      "3  sanji  32.0   77.0\n",
      "4   nami  43.0   88.0\n"
     ]
    }
   ],
   "source": [
    "clean=data.dropna()\n",
    "print(clean)"
   ]
  },
  {
   "cell_type": "code",
   "execution_count": 40,
   "id": "ea312463",
   "metadata": {},
   "outputs": [
    {
     "name": "stdout",
     "output_type": "stream",
     "text": [
      "Enter namerobin\n",
      "    name     id  marks\n",
      "0  luffy   22.0   45.0\n",
      "1   zoro   23.0   65.0\n",
      "2  robin  123.0   85.0\n",
      "3  sanji   32.0   77.0\n",
      "4   nami   43.0   88.0\n"
     ]
    }
   ],
   "source": [
    "name=input(\"Enter name\")\n",
    "fillrow = {'name': name, 'id': 123, 'marks': 85}\n",
    "alldata=data.fillna(fillrow)\n",
    "print(alldata)"
   ]
  },
  {
   "cell_type": "code",
   "execution_count": 41,
   "id": "07116f6c",
   "metadata": {},
   "outputs": [
    {
     "name": "stdout",
     "output_type": "stream",
     "text": [
      "    name     id  marks\n",
      "0  luffy   22.0   45.0\n",
      "1   zoro   23.0   65.0\n",
      "2  robin  123.0   85.0\n",
      "3  sanji   32.0   77.0\n",
      "4   nami   43.0   88.0\n"
     ]
    }
   ],
   "source": [
    "df=pd.DataFrame(alldata)\n",
    "print(df)"
   ]
  },
  {
   "cell_type": "code",
   "execution_count": 42,
   "id": "26557946",
   "metadata": {},
   "outputs": [
    {
     "name": "stdout",
     "output_type": "stream",
     "text": [
      "88.0\n",
      "45.0\n"
     ]
    }
   ],
   "source": [
    "#useless\n",
    "print(df['marks'].max())\n",
    "print(df['marks'].min())"
   ]
  },
  {
   "cell_type": "code",
   "execution_count": 46,
   "id": "ee63c563",
   "metadata": {},
   "outputs": [
    {
     "name": "stdout",
     "output_type": "stream",
     "text": [
      "[[['luffy' 'zoro' 'robin' 'sanji' 'nami']\n",
      "  [22.0 23.0 123.0 32.0 43.0]\n",
      "  [45.0 65.0 85.0 77.0 88.0]]]\n"
     ]
    }
   ],
   "source": [
    "#using numpy converting it into multi dimensional array\n",
    "nmpdata=np.array([[df['name'],df['id'],df['marks']]])\n",
    "print(nmpdata)"
   ]
  },
  {
   "cell_type": "code",
   "execution_count": 47,
   "id": "99b88601",
   "metadata": {},
   "outputs": [
    {
     "name": "stdout",
     "output_type": "stream",
     "text": [
      "[[['luffy']\n",
      "  [22.0]\n",
      "  [45.0]]\n",
      "\n",
      " [['zoro']\n",
      "  [23.0]\n",
      "  [65.0]]\n",
      "\n",
      " [['robin']\n",
      "  [123.0]\n",
      "  [85.0]]\n",
      "\n",
      " [['sanji']\n",
      "  [32.0]\n",
      "  [77.0]]\n",
      "\n",
      " [['nami']\n",
      "  [43.0]\n",
      "  [88.0]]]\n"
     ]
    }
   ],
   "source": [
    "# Transpose of a array\n",
    "print(nmpdata.T)"
   ]
  },
  {
   "cell_type": "code",
   "execution_count": 53,
   "id": "77579417",
   "metadata": {},
   "outputs": [
    {
     "name": "stdout",
     "output_type": "stream",
     "text": [
      "Maximum Marks: 88.0\n"
     ]
    }
   ],
   "source": [
    "# nmpdata is a NumPy array containing 'marks' column\n",
    "marks_column = nmpdata[:, 2]  #'marks' column is at index 2\n",
    "\n",
    "# Find the maximum marks\n",
    "max_marks = np.nanmax(marks_column)\n",
    "\n",
    "print(\"Maximum Marks:\", max_marks)"
   ]
  },
  {
   "cell_type": "code",
   "execution_count": 56,
   "id": "833a9da9",
   "metadata": {},
   "outputs": [
    {
     "name": "stdout",
     "output_type": "stream",
     "text": [
      "8\n"
     ]
    }
   ],
   "source": [
    "print(nmpdata.itemsize)"
   ]
  },
  {
   "cell_type": "code",
   "execution_count": 58,
   "id": "d1ec87fd",
   "metadata": {},
   "outputs": [
    {
     "name": "stdout",
     "output_type": "stream",
     "text": [
      "Updated Marks: [[50.0 70.0 90.0 82.0 93.0]]\n"
     ]
    }
   ],
   "source": [
    "# nmpdata is a NumPy array containing 'marks' column\n",
    "marks_column = nmpdata[:, 2]  #  'marks' column is at index 2\n",
    "\n",
    "# Add 5 to all marks\n",
    "marks_column += 5\n",
    "\n",
    "# Print the updated marks column\n",
    "print(\"Updated Marks:\", marks_column)"
   ]
  },
  {
   "cell_type": "code",
   "execution_count": null,
   "id": "442964f6",
   "metadata": {},
   "outputs": [],
   "source": []
  }
 ],
 "metadata": {
  "kernelspec": {
   "display_name": "Python 3 (ipykernel)",
   "language": "python",
   "name": "python3"
  },
  "language_info": {
   "codemirror_mode": {
    "name": "ipython",
    "version": 3
   },
   "file_extension": ".py",
   "mimetype": "text/x-python",
   "name": "python",
   "nbconvert_exporter": "python",
   "pygments_lexer": "ipython3",
   "version": "3.11.3"
  }
 },
 "nbformat": 4,
 "nbformat_minor": 5
}
