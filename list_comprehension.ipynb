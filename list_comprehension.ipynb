{
 "cells": [
  {
   "cell_type": "code",
   "execution_count": 1,
   "id": "d4b7cf76",
   "metadata": {},
   "outputs": [],
   "source": [
    "s=\"hello\"\n"
   ]
  },
  {
   "cell_type": "code",
   "execution_count": 2,
   "id": "f925ed65",
   "metadata": {},
   "outputs": [],
   "source": [
    "mylist=[]"
   ]
  },
  {
   "cell_type": "code",
   "execution_count": 3,
   "id": "10d3e56d",
   "metadata": {},
   "outputs": [],
   "source": [
    "for letr in s:\n",
    "    mylist.append(letr)"
   ]
  },
  {
   "cell_type": "code",
   "execution_count": 4,
   "id": "128f6458",
   "metadata": {},
   "outputs": [
    {
     "data": {
      "text/plain": [
       "['h', 'e', 'l', 'l', 'o']"
      ]
     },
     "execution_count": 4,
     "metadata": {},
     "output_type": "execute_result"
    }
   ],
   "source": [
    "mylist"
   ]
  },
  {
   "cell_type": "code",
   "execution_count": 5,
   "id": "5485bbbf",
   "metadata": {},
   "outputs": [],
   "source": [
    "mylist=[letr for letr in s]"
   ]
  },
  {
   "cell_type": "code",
   "execution_count": 6,
   "id": "94ac8c8d",
   "metadata": {},
   "outputs": [
    {
     "data": {
      "text/plain": [
       "['h', 'e', 'l', 'l', 'o']"
      ]
     },
     "execution_count": 6,
     "metadata": {},
     "output_type": "execute_result"
    }
   ],
   "source": [
    "mylist"
   ]
  },
  {
   "cell_type": "code",
   "execution_count": 7,
   "id": "a9cc03b4",
   "metadata": {},
   "outputs": [],
   "source": [
    "myl=[x for x in 'world']"
   ]
  },
  {
   "cell_type": "code",
   "execution_count": 8,
   "id": "afa11bb2",
   "metadata": {},
   "outputs": [
    {
     "data": {
      "text/plain": [
       "['w', 'o', 'r', 'l', 'd']"
      ]
     },
     "execution_count": 8,
     "metadata": {},
     "output_type": "execute_result"
    }
   ],
   "source": [
    "myl"
   ]
  },
  {
   "cell_type": "code",
   "execution_count": 9,
   "id": "2c8dbe1c",
   "metadata": {},
   "outputs": [],
   "source": [
    "myl=[x for x in range(0,21)]"
   ]
  },
  {
   "cell_type": "code",
   "execution_count": 10,
   "id": "f274c5bb",
   "metadata": {},
   "outputs": [
    {
     "data": {
      "text/plain": [
       "[0, 1, 2, 3, 4, 5, 6, 7, 8, 9, 10, 11, 12, 13, 14, 15, 16, 17, 18, 19, 20]"
      ]
     },
     "execution_count": 10,
     "metadata": {},
     "output_type": "execute_result"
    }
   ],
   "source": [
    "myl"
   ]
  },
  {
   "cell_type": "code",
   "execution_count": 11,
   "id": "47d7f023",
   "metadata": {},
   "outputs": [],
   "source": [
    "myl=[x**2 for x in range(0,11)]"
   ]
  },
  {
   "cell_type": "code",
   "execution_count": 12,
   "id": "30258d61",
   "metadata": {},
   "outputs": [
    {
     "data": {
      "text/plain": [
       "[0, 1, 4, 9, 16, 25, 36, 49, 64, 81, 100]"
      ]
     },
     "execution_count": 12,
     "metadata": {},
     "output_type": "execute_result"
    }
   ],
   "source": [
    "myl"
   ]
  },
  {
   "cell_type": "code",
   "execution_count": 15,
   "id": "2ac7aa89",
   "metadata": {},
   "outputs": [],
   "source": [
    "myl=[x for x in range(0,11) if x%2==0]"
   ]
  },
  {
   "cell_type": "code",
   "execution_count": 16,
   "id": "7d5079ac",
   "metadata": {},
   "outputs": [
    {
     "data": {
      "text/plain": [
       "[0, 2, 4, 6, 8, 10]"
      ]
     },
     "execution_count": 16,
     "metadata": {},
     "output_type": "execute_result"
    }
   ],
   "source": [
    "myl"
   ]
  },
  {
   "cell_type": "code",
   "execution_count": 17,
   "id": "9c99dfb7",
   "metadata": {},
   "outputs": [],
   "source": [
    "myl=[x**2 for x in range(0,11) if x%2==0]"
   ]
  },
  {
   "cell_type": "code",
   "execution_count": 18,
   "id": "bcb1afe0",
   "metadata": {},
   "outputs": [
    {
     "data": {
      "text/plain": [
       "[0, 4, 16, 36, 64, 100]"
      ]
     },
     "execution_count": 18,
     "metadata": {},
     "output_type": "execute_result"
    }
   ],
   "source": [
    "myl"
   ]
  },
  {
   "cell_type": "code",
   "execution_count": 19,
   "id": "c64289bd",
   "metadata": {},
   "outputs": [],
   "source": [
    "myl=[]\n",
    "for x in [2,4,6]:\n",
    "    for y in [100,200,300]:\n",
    "        myl.append(x*y)"
   ]
  },
  {
   "cell_type": "code",
   "execution_count": 20,
   "id": "1f8e5baf",
   "metadata": {},
   "outputs": [
    {
     "data": {
      "text/plain": [
       "[200, 400, 600, 400, 800, 1200, 600, 1200, 1800]"
      ]
     },
     "execution_count": 20,
     "metadata": {},
     "output_type": "execute_result"
    }
   ],
   "source": [
    "myl"
   ]
  },
  {
   "cell_type": "code",
   "execution_count": 21,
   "id": "4246a3f8",
   "metadata": {},
   "outputs": [],
   "source": [
    "myl=[x*y for x in [2,4,6] for y in [100,200,300]]"
   ]
  },
  {
   "cell_type": "code",
   "execution_count": 22,
   "id": "38471a85",
   "metadata": {},
   "outputs": [
    {
     "data": {
      "text/plain": [
       "[200, 400, 600, 400, 800, 1200, 600, 1200, 1800]"
      ]
     },
     "execution_count": 22,
     "metadata": {},
     "output_type": "execute_result"
    }
   ],
   "source": [
    "myl"
   ]
  },
  {
   "cell_type": "code",
   "execution_count": null,
   "id": "b122beb1",
   "metadata": {},
   "outputs": [],
   "source": []
  }
 ],
 "metadata": {
  "kernelspec": {
   "display_name": "Python 3 (ipykernel)",
   "language": "python",
   "name": "python3"
  },
  "language_info": {
   "codemirror_mode": {
    "name": "ipython",
    "version": 3
   },
   "file_extension": ".py",
   "mimetype": "text/x-python",
   "name": "python",
   "nbconvert_exporter": "python",
   "pygments_lexer": "ipython3",
   "version": "3.11.3"
  }
 },
 "nbformat": 4,
 "nbformat_minor": 5
}
