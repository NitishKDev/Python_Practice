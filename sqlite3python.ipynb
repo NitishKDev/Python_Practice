{
 "cells": [
  {
   "cell_type": "code",
   "execution_count": 9,
   "id": "771c1ae0",
   "metadata": {},
   "outputs": [],
   "source": [
    "import sqlite3\n",
    "\n",
    "# Connect to an SQLite database\n",
    "conn = sqlite3.connect('example.db')\n"
   ]
  },
  {
   "cell_type": "code",
   "execution_count": 10,
   "id": "36f47124",
   "metadata": {},
   "outputs": [
    {
     "data": {
      "text/plain": [
       "<sqlite3.Cursor at 0x22c50231cc0>"
      ]
     },
     "execution_count": 10,
     "metadata": {},
     "output_type": "execute_result"
    }
   ],
   "source": [
    "# Create a table\n",
    "conn.execute('''CREATE TABLE IF NOT EXISTS students (\n",
    "                 id INTEGER PRIMARY KEY,\n",
    "                 name TEXT,\n",
    "                 age INTEGER)''')\n"
   ]
  },
  {
   "cell_type": "code",
   "execution_count": 11,
   "id": "714a2884",
   "metadata": {},
   "outputs": [
    {
     "data": {
      "text/plain": [
       "<sqlite3.Cursor at 0x22c50231440>"
      ]
     },
     "execution_count": 11,
     "metadata": {},
     "output_type": "execute_result"
    }
   ],
   "source": [
    "# Insert a record into the table\n",
    "conn.execute(\"INSERT INTO students (name, age) VALUES ('Alice', 25)\")\n",
    "conn.execute(\"INSERT INTO students (name, age) VALUES ('jack', 54)\")\n",
    "conn.execute(\"INSERT INTO students (name, age) VALUES ('frosty', 140)\")"
   ]
  },
  {
   "cell_type": "code",
   "execution_count": 12,
   "id": "1287dbec",
   "metadata": {},
   "outputs": [],
   "source": [
    "# Execute a SQL query to fetch data\n",
    "cursor = conn.execute(\"SELECT * FROM students\")\n"
   ]
  },
  {
   "cell_type": "code",
   "execution_count": 13,
   "id": "bcf41250",
   "metadata": {},
   "outputs": [],
   "source": [
    "# Fetch all rows returned by the SELECT query\n",
    "rows = cursor.fetchall()\n"
   ]
  },
  {
   "cell_type": "code",
   "execution_count": 14,
   "id": "8b138a77",
   "metadata": {},
   "outputs": [
    {
     "name": "stdout",
     "output_type": "stream",
     "text": [
      "[(1, 'Alice', 25), (2, 'jack', 54), (3, 'frosty', 140)]\n"
     ]
    }
   ],
   "source": [
    "print(rows)"
   ]
  },
  {
   "cell_type": "code",
   "execution_count": 15,
   "id": "e160d74d",
   "metadata": {},
   "outputs": [],
   "source": [
    "conn.close()"
   ]
  },
  {
   "cell_type": "code",
   "execution_count": null,
   "id": "4065e6b0",
   "metadata": {},
   "outputs": [],
   "source": []
  }
 ],
 "metadata": {
  "kernelspec": {
   "display_name": "Python 3 (ipykernel)",
   "language": "python",
   "name": "python3"
  },
  "language_info": {
   "codemirror_mode": {
    "name": "ipython",
    "version": 3
   },
   "file_extension": ".py",
   "mimetype": "text/x-python",
   "name": "python",
   "nbconvert_exporter": "python",
   "pygments_lexer": "ipython3",
   "version": "3.11.3"
  }
 },
 "nbformat": 4,
 "nbformat_minor": 5
}
