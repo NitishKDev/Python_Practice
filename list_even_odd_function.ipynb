{
 "cells": [
  {
   "cell_type": "code",
   "execution_count": 1,
   "id": "94b1e7df",
   "metadata": {},
   "outputs": [
    {
     "name": "stdout",
     "output_type": "stream",
     "text": [
      "21 is odd\n",
      "3 is odd\n",
      "43 is odd\n",
      "22 is even\n",
      "65 is odd\n",
      "88 is even\n",
      "99 is odd\n"
     ]
    }
   ],
   "source": [
    "def check_list_even():\n",
    "    my_list=[21,3,43,22,65,88,99]\n",
    "    for ie in my_list:\n",
    "        if ie%2==0:\n",
    "            print(f\"{ie} is even\")\n",
    "        else:\n",
    "            print(f\"{ie} is odd\")\n",
    "check_list_even()"
   ]
  },
  {
   "cell_type": "code",
   "execution_count": null,
   "id": "3e3d1090",
   "metadata": {},
   "outputs": [],
   "source": []
  }
 ],
 "metadata": {
  "kernelspec": {
   "display_name": "Python 3 (ipykernel)",
   "language": "python",
   "name": "python3"
  },
  "language_info": {
   "codemirror_mode": {
    "name": "ipython",
    "version": 3
   },
   "file_extension": ".py",
   "mimetype": "text/x-python",
   "name": "python",
   "nbconvert_exporter": "python",
   "pygments_lexer": "ipython3",
   "version": "3.11.3"
  }
 },
 "nbformat": 4,
 "nbformat_minor": 5
}
