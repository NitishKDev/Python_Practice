{
 "cells": [
  {
   "cell_type": "code",
   "execution_count": 1,
   "id": "e2252eae",
   "metadata": {},
   "outputs": [
    {
     "name": "stdout",
     "output_type": "stream",
     "text": [
      "[2, 5, 24, 6, 7]\n",
      "[2, 5, 24, 6, 7, 4]\n"
     ]
    }
   ],
   "source": [
    "#Adding Element in List\n",
    "mylist=[2,5,24,6,7]\n",
    "print(mylist)\n",
    "mylist.append(4)\n",
    "print(mylist)\n"
   ]
  },
  {
   "cell_type": "code",
   "execution_count": 2,
   "id": "46094ff7",
   "metadata": {},
   "outputs": [
    {
     "name": "stdout",
     "output_type": "stream",
     "text": [
      "[2, 5, 24, 6, 7, 4]\n",
      "[2, 5, 24, 44, 6, 7, 4]\n"
     ]
    }
   ],
   "source": [
    "# insert() method\n",
    "print(mylist)\n",
    "mylist.insert(3,44)\n",
    "print(mylist)"
   ]
  },
  {
   "cell_type": "code",
   "execution_count": 3,
   "id": "6a1d948d",
   "metadata": {},
   "outputs": [
    {
     "name": "stdout",
     "output_type": "stream",
     "text": [
      "[2, 3, 4]\n",
      "[6, 5, 3]\n",
      "[2, 3, 4, 6, 5, 3]\n"
     ]
    }
   ],
   "source": [
    "#extend() method\n",
    "l1=[2,3,4]\n",
    "l2=[6,5,3]\n",
    "print(l1)\n",
    "print(l2)\n",
    "l1.extend(l2)\n",
    "print(l1)"
   ]
  },
  {
   "cell_type": "markdown",
   "id": "1ed60544",
   "metadata": {},
   "source": [
    "Important functions of the Python List below:"
   ]
  },
  {
   "cell_type": "code",
   "execution_count": 5,
   "id": "a925f516",
   "metadata": {},
   "outputs": [
    {
     "name": "stdout",
     "output_type": "stream",
     "text": [
      "9\n"
     ]
    }
   ],
   "source": [
    "#sum() method only for numeric\n",
    "l1=[2,3,4]\n",
    "print(sum(l1))"
   ]
  },
  {
   "cell_type": "code",
   "execution_count": 6,
   "id": "eade4738",
   "metadata": {},
   "outputs": [
    {
     "name": "stdout",
     "output_type": "stream",
     "text": [
      "4\n"
     ]
    }
   ],
   "source": [
    "#count() method...Calculates the total occurrence of a given element of the List. \n",
    "l1=[2,3,4,5,6,2,3,3,3]\n",
    "print(l1.count(3))"
   ]
  },
  {
   "cell_type": "code",
   "execution_count": 8,
   "id": "1173f59a",
   "metadata": {},
   "outputs": [
    {
     "name": "stdout",
     "output_type": "stream",
     "text": [
      "9\n"
     ]
    }
   ],
   "source": [
    "#len() method\n",
    "print(len(l1))"
   ]
  },
  {
   "cell_type": "code",
   "execution_count": 10,
   "id": "9553b79b",
   "metadata": {},
   "outputs": [
    {
     "name": "stdout",
     "output_type": "stream",
     "text": [
      "0\n"
     ]
    }
   ],
   "source": [
    "#index() method..Returns the index of the first occurrence. The start and end indexes are not necessary parameters. \n",
    "l2 = [1, 2, 3, 1, 2, 1, 2, 3, 2, 1] \n",
    "print(l2.index(1)) \n"
   ]
  },
  {
   "cell_type": "code",
   "execution_count": 11,
   "id": "0fad9db2",
   "metadata": {},
   "outputs": [
    {
     "name": "stdout",
     "output_type": "stream",
     "text": [
      "1\n"
     ]
    }
   ],
   "source": [
    "# min() method\n",
    "print(min(l2))"
   ]
  },
  {
   "cell_type": "code",
   "execution_count": 12,
   "id": "53cbab3a",
   "metadata": {},
   "outputs": [
    {
     "name": "stdout",
     "output_type": "stream",
     "text": [
      "3\n"
     ]
    }
   ],
   "source": [
    "# max() method\n",
    "print(max(l2))"
   ]
  },
  {
   "cell_type": "code",
   "execution_count": 13,
   "id": "ee5723bd",
   "metadata": {},
   "outputs": [
    {
     "name": "stdout",
     "output_type": "stream",
     "text": [
      "[1, 2, 3, 5, 44, 55]\n"
     ]
    }
   ],
   "source": [
    "#sort() method...Sort the given data structure (both tuple and list) in ascending order.\n",
    "l=[2,44,3,5,1,55]\n",
    "l.sort()\n",
    "print(l)"
   ]
  },
  {
   "cell_type": "code",
   "execution_count": 15,
   "id": "5bfa0e55",
   "metadata": {},
   "outputs": [
    {
     "name": "stdout",
     "output_type": "stream",
     "text": [
      "[4, 5, 3, 6]\n",
      "[6, 3, 5, 4]\n"
     ]
    }
   ],
   "source": [
    "#reverse() method\n",
    "l=[4,5,3,6]\n",
    "print(l)\n",
    "l.reverse()\n",
    "print(l)"
   ]
  },
  {
   "cell_type": "code",
   "execution_count": null,
   "id": "c7afa5ea",
   "metadata": {},
   "outputs": [],
   "source": []
  }
 ],
 "metadata": {
  "kernelspec": {
   "display_name": "Python 3 (ipykernel)",
   "language": "python",
   "name": "python3"
  },
  "language_info": {
   "codemirror_mode": {
    "name": "ipython",
    "version": 3
   },
   "file_extension": ".py",
   "mimetype": "text/x-python",
   "name": "python",
   "nbconvert_exporter": "python",
   "pygments_lexer": "ipython3",
   "version": "3.11.3"
  }
 },
 "nbformat": 4,
 "nbformat_minor": 5
}
