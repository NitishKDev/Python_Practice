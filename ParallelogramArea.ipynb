{
 "cells": [
  {
   "cell_type": "code",
   "execution_count": 3,
   "id": "ecc8e6d5",
   "metadata": {},
   "outputs": [
    {
     "name": "stdout",
     "output_type": "stream",
     "text": [
      "Enter the base of parallelogram: 6\n",
      "Enter the height of parallelogram: 3\n",
      "Area of parallelogram is: 18.0\n"
     ]
    }
   ],
   "source": [
    "def Area():\n",
    "    base = float(input(\"Enter the base of parallelogram: \"))\n",
    "    height = float(input(\"Enter the height of parallelogram: \"))\n",
    "    area=base*height\n",
    "    return print('Area of parallelogram is:' ,area)\n",
    "Area()"
   ]
  },
  {
   "cell_type": "code",
   "execution_count": null,
   "id": "35eda196",
   "metadata": {},
   "outputs": [],
   "source": []
  }
 ],
 "metadata": {
  "kernelspec": {
   "display_name": "Python 3 (ipykernel)",
   "language": "python",
   "name": "python3"
  },
  "language_info": {
   "codemirror_mode": {
    "name": "ipython",
    "version": 3
   },
   "file_extension": ".py",
   "mimetype": "text/x-python",
   "name": "python",
   "nbconvert_exporter": "python",
   "pygments_lexer": "ipython3",
   "version": "3.11.3"
  }
 },
 "nbformat": 4,
 "nbformat_minor": 5
}
