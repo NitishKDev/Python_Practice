{
 "cells": [
  {
   "cell_type": "code",
   "execution_count": 6,
   "id": "49c0874d",
   "metadata": {},
   "outputs": [
    {
     "name": "stdout",
     "output_type": "stream",
     "text": [
      "Enter the radius of the cylinder: 3\n",
      "Enter the height of the cylinder: 4\n",
      "Curve surface Area of cylinder is: 75.408\n",
      "Enter the radius of the cylinder: 2\n",
      "Enter the height of the cylinder: 4\n",
      "Total Surface Area of cylinder is: 75.408\n"
     ]
    }
   ],
   "source": [
    "#curve surface area of cylinder is 2*PI*r*h\n",
    "#total surface area of cylinder is 2*PI*r(r+h)\n",
    "\n",
    "def CurveArea():\n",
    "    PI=3.142\n",
    "    radius = float(input(\"Enter the radius of the cylinder: \"))\n",
    "    height = float(input(\"Enter the height of the cylinder: \"))\n",
    "    Carea=2*PI*radius*height\n",
    "    return print('Curve surface Area of cylinder is:' ,Carea)\n",
    "\n",
    "def TotalArea():\n",
    "    PI=3.142\n",
    "    radius = float(input(\"Enter the radius of the cylinder: \"))\n",
    "    height = float(input(\"Enter the height of the cylinder: \"))\n",
    "    Tarea=2*PI*radius*(radius+height)\n",
    "    return print('Total Surface Area of cylinder is:' ,Tarea)\n",
    "\n",
    "CurveArea()\n",
    "TotalArea()\n",
    "\n"
   ]
  },
  {
   "cell_type": "code",
   "execution_count": null,
   "id": "41f852c8",
   "metadata": {},
   "outputs": [],
   "source": []
  }
 ],
 "metadata": {
  "kernelspec": {
   "display_name": "Python 3 (ipykernel)",
   "language": "python",
   "name": "python3"
  },
  "language_info": {
   "codemirror_mode": {
    "name": "ipython",
    "version": 3
   },
   "file_extension": ".py",
   "mimetype": "text/x-python",
   "name": "python",
   "nbconvert_exporter": "python",
   "pygments_lexer": "ipython3",
   "version": "3.11.3"
  }
 },
 "nbformat": 4,
 "nbformat_minor": 5
}
