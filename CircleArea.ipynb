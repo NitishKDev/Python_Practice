{
 "cells": [
  {
   "cell_type": "code",
   "execution_count": 7,
   "id": "6b6acd07",
   "metadata": {},
   "outputs": [
    {
     "name": "stdout",
     "output_type": "stream",
     "text": [
      "Enter the radius of the circle: 1\n",
      "Area of circle is: 3.142\n"
     ]
    }
   ],
   "source": [
    "def Area():\n",
    "    PI=3.142\n",
    "    radius = float(input(\"Enter the radius of the circle: \"))\n",
    "    area=PI*(radius*radius)\n",
    "    return print('Area of circle is:' ,area)\n",
    "Area()\n"
   ]
  },
  {
   "cell_type": "code",
   "execution_count": null,
   "id": "46b8d893",
   "metadata": {},
   "outputs": [],
   "source": []
  }
 ],
 "metadata": {
  "kernelspec": {
   "display_name": "Python 3 (ipykernel)",
   "language": "python",
   "name": "python3"
  },
  "language_info": {
   "codemirror_mode": {
    "name": "ipython",
    "version": 3
   },
   "file_extension": ".py",
   "mimetype": "text/x-python",
   "name": "python",
   "nbconvert_exporter": "python",
   "pygments_lexer": "ipython3",
   "version": "3.11.3"
  }
 },
 "nbformat": 4,
 "nbformat_minor": 5
}
