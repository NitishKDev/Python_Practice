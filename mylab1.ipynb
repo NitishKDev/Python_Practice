{
 "cells": [
  {
   "cell_type": "markdown",
   "id": "57104cc1",
   "metadata": {},
   "source": [
    "Write a Python program to perform linear search "
   ]
  },
  {
   "cell_type": "code",
   "execution_count": 11,
   "id": "198781b0",
   "metadata": {},
   "outputs": [
    {
     "name": "stdout",
     "output_type": "stream",
     "text": [
      "Enter key to find in the list56\n",
      "Element not found\n"
     ]
    }
   ],
   "source": [
    "list=[11,3,45,6,7]\n",
    "key=int(input(\"Enter key to find in the list\"))\n",
    "size=len(list) \n",
    "res=linear_Search(list,size,key)\n",
    "\n",
    "if(res == -1): \n",
    "    print(\"Element not found\") \n",
    "else: \n",
    "    print(\"Element found at index: \", res)\n",
    "    \n",
    "def linear_Search(list, size, key): \n",
    "    for i in range(0, size): \n",
    "        if (list[i] == key): \n",
    "            return i \n",
    "    return -1 "
   ]
  },
  {
   "cell_type": "code",
   "execution_count": null,
   "id": "facb46a7",
   "metadata": {},
   "outputs": [],
   "source": []
  }
 ],
 "metadata": {
  "kernelspec": {
   "display_name": "Python 3 (ipykernel)",
   "language": "python",
   "name": "python3"
  },
  "language_info": {
   "codemirror_mode": {
    "name": "ipython",
    "version": 3
   },
   "file_extension": ".py",
   "mimetype": "text/x-python",
   "name": "python",
   "nbconvert_exporter": "python",
   "pygments_lexer": "ipython3",
   "version": "3.11.3"
  }
 },
 "nbformat": 4,
 "nbformat_minor": 5
}
