{
 "cells": [
  {
   "cell_type": "code",
   "execution_count": 3,
   "id": "52630ba6",
   "metadata": {},
   "outputs": [
    {
     "name": "stdout",
     "output_type": "stream",
     "text": [
      "Enter the side of the square: 5\n",
      "Area of square is: 25.0\n"
     ]
    }
   ],
   "source": [
    "def Area():\n",
    "    side = float(input(\"Enter the side of the square: \"))\n",
    "    area=side*side\n",
    "    return print('Area of square is:' ,area)\n",
    "Area()"
   ]
  },
  {
   "cell_type": "code",
   "execution_count": null,
   "id": "fdcd3cdd",
   "metadata": {},
   "outputs": [],
   "source": []
  }
 ],
 "metadata": {
  "kernelspec": {
   "display_name": "Python 3 (ipykernel)",
   "language": "python",
   "name": "python3"
  },
  "language_info": {
   "codemirror_mode": {
    "name": "ipython",
    "version": 3
   },
   "file_extension": ".py",
   "mimetype": "text/x-python",
   "name": "python",
   "nbconvert_exporter": "python",
   "pygments_lexer": "ipython3",
   "version": "3.11.3"
  }
 },
 "nbformat": 4,
 "nbformat_minor": 5
}
