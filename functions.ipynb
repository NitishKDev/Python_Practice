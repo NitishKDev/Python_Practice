{
 "cells": [
  {
   "cell_type": "code",
   "execution_count": 1,
   "id": "31e1c98f",
   "metadata": {},
   "outputs": [],
   "source": [
    "def say_hello():\n",
    "    print('hello')\n",
    "    print('how')\n",
    "    print('you')"
   ]
  },
  {
   "cell_type": "code",
   "execution_count": 2,
   "id": "b1ce1234",
   "metadata": {},
   "outputs": [
    {
     "name": "stdout",
     "output_type": "stream",
     "text": [
      "hello\n",
      "how\n",
      "you\n"
     ]
    }
   ],
   "source": [
    "say_hello()"
   ]
  },
  {
   "cell_type": "code",
   "execution_count": 4,
   "id": "a82bf7e4",
   "metadata": {},
   "outputs": [],
   "source": [
    "def say_hello(name):\n",
    "    print(f'hello {name}')"
   ]
  },
  {
   "cell_type": "code",
   "execution_count": 5,
   "id": "931aac40",
   "metadata": {},
   "outputs": [
    {
     "name": "stdout",
     "output_type": "stream",
     "text": [
      "hello jack\n"
     ]
    }
   ],
   "source": [
    "say_hello('jack')"
   ]
  },
  {
   "cell_type": "code",
   "execution_count": 6,
   "id": "12bcc841",
   "metadata": {},
   "outputs": [],
   "source": [
    "def say_hello(name='frost'):\n",
    "    print(f'hello {name}')"
   ]
  },
  {
   "cell_type": "code",
   "execution_count": 7,
   "id": "213bb23b",
   "metadata": {},
   "outputs": [
    {
     "name": "stdout",
     "output_type": "stream",
     "text": [
      "hello frost\n"
     ]
    }
   ],
   "source": [
    "say_hello()"
   ]
  },
  {
   "cell_type": "code",
   "execution_count": 8,
   "id": "963ca2bd",
   "metadata": {},
   "outputs": [],
   "source": [
    "def addd(num1,num2):\n",
    "    return num1+num2"
   ]
  },
  {
   "cell_type": "code",
   "execution_count": 9,
   "id": "d9e9f815",
   "metadata": {},
   "outputs": [
    {
     "data": {
      "text/plain": [
       "6"
      ]
     },
     "execution_count": 9,
     "metadata": {},
     "output_type": "execute_result"
    }
   ],
   "source": [
    "addd(2,4)"
   ]
  },
  {
   "cell_type": "code",
   "execution_count": 10,
   "id": "7e696230",
   "metadata": {},
   "outputs": [],
   "source": [
    "res=addd(8,3)"
   ]
  },
  {
   "cell_type": "code",
   "execution_count": 11,
   "id": "e5f72ed6",
   "metadata": {},
   "outputs": [
    {
     "data": {
      "text/plain": [
       "11"
      ]
     },
     "execution_count": 11,
     "metadata": {},
     "output_type": "execute_result"
    }
   ],
   "source": [
    "res"
   ]
  },
  {
   "cell_type": "code",
   "execution_count": 12,
   "id": "fa4f60e8",
   "metadata": {},
   "outputs": [],
   "source": [
    "def prntt():\n",
    "    print(2+3)"
   ]
  },
  {
   "cell_type": "code",
   "execution_count": 17,
   "id": "cc44d098",
   "metadata": {},
   "outputs": [
    {
     "name": "stdout",
     "output_type": "stream",
     "text": [
      "5\n"
     ]
    }
   ],
   "source": [
    "prntt()"
   ]
  },
  {
   "cell_type": "code",
   "execution_count": 14,
   "id": "a2e31146",
   "metadata": {},
   "outputs": [],
   "source": [
    "def rett():\n",
    "    return 4+3"
   ]
  },
  {
   "cell_type": "code",
   "execution_count": 15,
   "id": "1c5b43db",
   "metadata": {},
   "outputs": [],
   "source": [
    "r=rett()"
   ]
  },
  {
   "cell_type": "code",
   "execution_count": 16,
   "id": "490ef311",
   "metadata": {},
   "outputs": [
    {
     "data": {
      "text/plain": [
       "7"
      ]
     },
     "execution_count": 16,
     "metadata": {},
     "output_type": "execute_result"
    }
   ],
   "source": [
    "r"
   ]
  },
  {
   "cell_type": "code",
   "execution_count": 18,
   "id": "97efe9fd",
   "metadata": {},
   "outputs": [
    {
     "name": "stdout",
     "output_type": "stream",
     "text": [
      "5\n"
     ]
    }
   ],
   "source": [
    "r=prntt()"
   ]
  },
  {
   "cell_type": "code",
   "execution_count": 19,
   "id": "91835f86",
   "metadata": {},
   "outputs": [],
   "source": [
    "r"
   ]
  },
  {
   "cell_type": "code",
   "execution_count": 20,
   "id": "ade5e8fe",
   "metadata": {},
   "outputs": [
    {
     "data": {
      "text/plain": [
       "NoneType"
      ]
     },
     "execution_count": 20,
     "metadata": {},
     "output_type": "execute_result"
    }
   ],
   "source": [
    "type(r)"
   ]
  },
  {
   "cell_type": "code",
   "execution_count": 21,
   "id": "c70b2f52",
   "metadata": {},
   "outputs": [],
   "source": [
    "r=rett()"
   ]
  },
  {
   "cell_type": "code",
   "execution_count": 22,
   "id": "b3224071",
   "metadata": {},
   "outputs": [
    {
     "data": {
      "text/plain": [
       "7"
      ]
     },
     "execution_count": 22,
     "metadata": {},
     "output_type": "execute_result"
    }
   ],
   "source": [
    "r"
   ]
  },
  {
   "cell_type": "code",
   "execution_count": 23,
   "id": "5c013253",
   "metadata": {},
   "outputs": [
    {
     "data": {
      "text/plain": [
       "int"
      ]
     },
     "execution_count": 23,
     "metadata": {},
     "output_type": "execute_result"
    }
   ],
   "source": [
    "type(r)"
   ]
  },
  {
   "cell_type": "code",
   "execution_count": 24,
   "id": "809cc24d",
   "metadata": {},
   "outputs": [],
   "source": [
    "def myfnc(a,b):\n",
    "    print(a+b)\n",
    "    return(a+b)"
   ]
  },
  {
   "cell_type": "code",
   "execution_count": 26,
   "id": "0586bf15",
   "metadata": {},
   "outputs": [
    {
     "name": "stdout",
     "output_type": "stream",
     "text": [
      "9\n"
     ]
    }
   ],
   "source": [
    "rr=myfnc(4,5)"
   ]
  },
  {
   "cell_type": "code",
   "execution_count": 27,
   "id": "dc6fbd20",
   "metadata": {},
   "outputs": [
    {
     "data": {
      "text/plain": [
       "9"
      ]
     },
     "execution_count": 27,
     "metadata": {},
     "output_type": "execute_result"
    }
   ],
   "source": [
    "rr"
   ]
  },
  {
   "cell_type": "code",
   "execution_count": 28,
   "id": "f542fa01",
   "metadata": {},
   "outputs": [],
   "source": [
    "def sumnm(a,b):\n",
    "    return a+b"
   ]
  },
  {
   "cell_type": "code",
   "execution_count": 29,
   "id": "509faaab",
   "metadata": {},
   "outputs": [
    {
     "data": {
      "text/plain": [
       "7"
      ]
     },
     "execution_count": 29,
     "metadata": {},
     "output_type": "execute_result"
    }
   ],
   "source": [
    "sumnm(3,4)"
   ]
  },
  {
   "cell_type": "code",
   "execution_count": 30,
   "id": "bd3dade8",
   "metadata": {},
   "outputs": [
    {
     "data": {
      "text/plain": [
       "'34'"
      ]
     },
     "execution_count": 30,
     "metadata": {},
     "output_type": "execute_result"
    }
   ],
   "source": [
    "sumnm('3','4')"
   ]
  },
  {
   "cell_type": "code",
   "execution_count": null,
   "id": "5bc99782",
   "metadata": {},
   "outputs": [],
   "source": []
  }
 ],
 "metadata": {
  "kernelspec": {
   "display_name": "Python 3 (ipykernel)",
   "language": "python",
   "name": "python3"
  },
  "language_info": {
   "codemirror_mode": {
    "name": "ipython",
    "version": 3
   },
   "file_extension": ".py",
   "mimetype": "text/x-python",
   "name": "python",
   "nbconvert_exporter": "python",
   "pygments_lexer": "ipython3",
   "version": "3.11.3"
  }
 },
 "nbformat": 4,
 "nbformat_minor": 5
}
