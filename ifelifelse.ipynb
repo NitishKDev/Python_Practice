{
 "cells": [
  {
   "cell_type": "code",
   "execution_count": 1,
   "id": "d27f7a0a",
   "metadata": {},
   "outputs": [
    {
     "name": "stdout",
     "output_type": "stream",
     "text": [
      "its is indeed true!\n"
     ]
    }
   ],
   "source": [
    "if True:\n",
    "    print(\"its is indeed true!\")"
   ]
  },
  {
   "cell_type": "code",
   "execution_count": 2,
   "id": "f3af6744",
   "metadata": {},
   "outputs": [
    {
     "name": "stdout",
     "output_type": "stream",
     "text": [
      "its is indeed true!\n"
     ]
    }
   ],
   "source": [
    "if 3>2:\n",
    "    print(\"its is indeed true!\")"
   ]
  },
  {
   "cell_type": "code",
   "execution_count": 3,
   "id": "abef9aea",
   "metadata": {},
   "outputs": [
    {
     "name": "stdout",
     "output_type": "stream",
     "text": [
      "feed me!\n"
     ]
    }
   ],
   "source": [
    "hungry=True\n",
    "if hungry:\n",
    "    print(\"feed me!\")"
   ]
  },
  {
   "cell_type": "code",
   "execution_count": 4,
   "id": "a8acf5cd",
   "metadata": {},
   "outputs": [],
   "source": [
    "hungry=False\n",
    "if hungry:\n",
    "    print(\"feed me!\")"
   ]
  },
  {
   "cell_type": "code",
   "execution_count": 5,
   "id": "ac1d0c15",
   "metadata": {},
   "outputs": [
    {
     "name": "stdout",
     "output_type": "stream",
     "text": [
      "i m not hungry!\n"
     ]
    }
   ],
   "source": [
    "hungry=False\n",
    "if hungry:\n",
    "    print(\"feed me!\")\n",
    "else:\n",
    "    print('i m not hungry!')"
   ]
  },
  {
   "cell_type": "code",
   "execution_count": 6,
   "id": "5bc7e00e",
   "metadata": {},
   "outputs": [
    {
     "name": "stdout",
     "output_type": "stream",
     "text": [
      "feed me!\n"
     ]
    }
   ],
   "source": [
    "hungry=True\n",
    "if hungry:\n",
    "    print(\"feed me!\")\n",
    "else:\n",
    "    print('i m not hungry!')"
   ]
  },
  {
   "cell_type": "code",
   "execution_count": 7,
   "id": "834cf5bf",
   "metadata": {},
   "outputs": [
    {
     "name": "stdout",
     "output_type": "stream",
     "text": [
      "some elseyo\n"
     ]
    }
   ],
   "source": [
    "loc='bank'\n",
    "if loc=='auto shop':\n",
    "    print('cars r cool')\n",
    "else:\n",
    "    print('some elseyo')\n",
    "    "
   ]
  },
  {
   "cell_type": "code",
   "execution_count": 8,
   "id": "3742f759",
   "metadata": {},
   "outputs": [
    {
     "name": "stdout",
     "output_type": "stream",
     "text": [
      "money is cool\n"
     ]
    }
   ],
   "source": [
    "loc='bank'\n",
    "if loc=='auto shop':\n",
    "    print('cars r cool')\n",
    "elif loc=='bank':\n",
    "    print('money is cool')\n",
    "else:\n",
    "    print('some elseyo')"
   ]
  },
  {
   "cell_type": "code",
   "execution_count": 9,
   "id": "d30d8481",
   "metadata": {},
   "outputs": [
    {
     "name": "stdout",
     "output_type": "stream",
     "text": [
      "yoo\n"
     ]
    }
   ],
   "source": [
    "loc='yo'\n",
    "if loc=='auto shop':\n",
    "    print('cars r cool')\n",
    "elif loc=='bank':\n",
    "    print('money is cool')\n",
    "elif loc=='yo':\n",
    "    print('yoo')\n",
    "else:\n",
    "    print('some elseyo')"
   ]
  },
  {
   "cell_type": "code",
   "execution_count": 10,
   "id": "ab34828f",
   "metadata": {},
   "outputs": [
    {
     "name": "stdout",
     "output_type": "stream",
     "text": [
      "whats ur name?\n"
     ]
    }
   ],
   "source": [
    "name='smamy'\n",
    "if name=='pio':\n",
    "    print('hello pio')\n",
    "elif name=='sui':\n",
    "    print('hello sui')\n",
    "else:\n",
    "    print('whats ur name?')"
   ]
  },
  {
   "cell_type": "code",
   "execution_count": null,
   "id": "91ed79ff",
   "metadata": {},
   "outputs": [],
   "source": []
  }
 ],
 "metadata": {
  "kernelspec": {
   "display_name": "Python 3 (ipykernel)",
   "language": "python",
   "name": "python3"
  },
  "language_info": {
   "codemirror_mode": {
    "name": "ipython",
    "version": 3
   },
   "file_extension": ".py",
   "mimetype": "text/x-python",
   "name": "python",
   "nbconvert_exporter": "python",
   "pygments_lexer": "ipython3",
   "version": "3.11.3"
  }
 },
 "nbformat": 4,
 "nbformat_minor": 5
}
