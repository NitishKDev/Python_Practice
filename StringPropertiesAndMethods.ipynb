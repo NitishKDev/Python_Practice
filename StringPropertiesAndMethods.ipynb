{
 "cells": [
  {
   "cell_type": "code",
   "execution_count": 1,
   "id": "5c3432c6",
   "metadata": {},
   "outputs": [],
   "source": [
    "name=\"Sam\""
   ]
  },
  {
   "cell_type": "code",
   "execution_count": 3,
   "id": "af9862a8",
   "metadata": {},
   "outputs": [],
   "source": [
    "#name[0]='P'"
   ]
  },
  {
   "cell_type": "code",
   "execution_count": 4,
   "id": "472116d3",
   "metadata": {},
   "outputs": [],
   "source": [
    "lname=name[1:]"
   ]
  },
  {
   "cell_type": "code",
   "execution_count": 5,
   "id": "d9cf05a4",
   "metadata": {},
   "outputs": [
    {
     "data": {
      "text/plain": [
       "'am'"
      ]
     },
     "execution_count": 5,
     "metadata": {},
     "output_type": "execute_result"
    }
   ],
   "source": [
    "lname"
   ]
  },
  {
   "cell_type": "code",
   "execution_count": 7,
   "id": "932fed97",
   "metadata": {},
   "outputs": [
    {
     "data": {
      "text/plain": [
       "'Pam'"
      ]
     },
     "execution_count": 7,
     "metadata": {},
     "output_type": "execute_result"
    }
   ],
   "source": [
    "'P'+lname"
   ]
  },
  {
   "cell_type": "code",
   "execution_count": 8,
   "id": "d8067676",
   "metadata": {},
   "outputs": [],
   "source": [
    "x=\"hello World\""
   ]
  },
  {
   "cell_type": "code",
   "execution_count": 9,
   "id": "5b6a54c4",
   "metadata": {},
   "outputs": [
    {
     "data": {
      "text/plain": [
       "'hello World'"
      ]
     },
     "execution_count": 9,
     "metadata": {},
     "output_type": "execute_result"
    }
   ],
   "source": [
    "x"
   ]
  },
  {
   "cell_type": "code",
   "execution_count": 10,
   "id": "2451e1b4",
   "metadata": {},
   "outputs": [
    {
     "data": {
      "text/plain": [
       "'hello World it is beautiful outside'"
      ]
     },
     "execution_count": 10,
     "metadata": {},
     "output_type": "execute_result"
    }
   ],
   "source": [
    "x+\" it is beautiful outside\""
   ]
  },
  {
   "cell_type": "code",
   "execution_count": 11,
   "id": "0e250d7b",
   "metadata": {},
   "outputs": [],
   "source": [
    "x=x+\" it is beautiful outside\""
   ]
  },
  {
   "cell_type": "code",
   "execution_count": 12,
   "id": "f64adb1b",
   "metadata": {},
   "outputs": [
    {
     "data": {
      "text/plain": [
       "'hello World it is beautiful outside'"
      ]
     },
     "execution_count": 12,
     "metadata": {},
     "output_type": "execute_result"
    }
   ],
   "source": [
    "x"
   ]
  },
  {
   "cell_type": "code",
   "execution_count": 13,
   "id": "1f3db202",
   "metadata": {},
   "outputs": [],
   "source": [
    "alp='z'"
   ]
  },
  {
   "cell_type": "code",
   "execution_count": 14,
   "id": "88f16b57",
   "metadata": {},
   "outputs": [
    {
     "data": {
      "text/plain": [
       "'z'"
      ]
     },
     "execution_count": 14,
     "metadata": {},
     "output_type": "execute_result"
    }
   ],
   "source": [
    "alp"
   ]
  },
  {
   "cell_type": "code",
   "execution_count": 15,
   "id": "69d4e8db",
   "metadata": {},
   "outputs": [
    {
     "data": {
      "text/plain": [
       "'zzzzzzzzzz'"
      ]
     },
     "execution_count": 15,
     "metadata": {},
     "output_type": "execute_result"
    }
   ],
   "source": [
    "alp*10"
   ]
  },
  {
   "cell_type": "code",
   "execution_count": 16,
   "id": "42f1dfb6",
   "metadata": {},
   "outputs": [
    {
     "data": {
      "text/plain": [
       "12"
      ]
     },
     "execution_count": 16,
     "metadata": {},
     "output_type": "execute_result"
    }
   ],
   "source": [
    "4+8"
   ]
  },
  {
   "cell_type": "code",
   "execution_count": 17,
   "id": "71e38471",
   "metadata": {},
   "outputs": [
    {
     "data": {
      "text/plain": [
       "'48'"
      ]
     },
     "execution_count": 17,
     "metadata": {},
     "output_type": "execute_result"
    }
   ],
   "source": [
    "'4'+'8'"
   ]
  },
  {
   "cell_type": "code",
   "execution_count": 18,
   "id": "b67dd16a",
   "metadata": {},
   "outputs": [],
   "source": [
    "x=\"hello world\""
   ]
  },
  {
   "cell_type": "code",
   "execution_count": 20,
   "id": "2aa5c8ac",
   "metadata": {},
   "outputs": [
    {
     "data": {
      "text/plain": [
       "'HELLO WORLD'"
      ]
     },
     "execution_count": 20,
     "metadata": {},
     "output_type": "execute_result"
    }
   ],
   "source": [
    "x.upper()"
   ]
  },
  {
   "cell_type": "code",
   "execution_count": 21,
   "id": "7edd9125",
   "metadata": {},
   "outputs": [
    {
     "data": {
      "text/plain": [
       "'hello world'"
      ]
     },
     "execution_count": 21,
     "metadata": {},
     "output_type": "execute_result"
    }
   ],
   "source": [
    "x"
   ]
  },
  {
   "cell_type": "code",
   "execution_count": 22,
   "id": "f9807b56",
   "metadata": {},
   "outputs": [],
   "source": [
    "x=x.upper()"
   ]
  },
  {
   "cell_type": "code",
   "execution_count": 23,
   "id": "1e3eed06",
   "metadata": {},
   "outputs": [
    {
     "data": {
      "text/plain": [
       "'HELLO WORLD'"
      ]
     },
     "execution_count": 23,
     "metadata": {},
     "output_type": "execute_result"
    }
   ],
   "source": [
    "x"
   ]
  },
  {
   "cell_type": "code",
   "execution_count": 24,
   "id": "26dd3ce3",
   "metadata": {},
   "outputs": [
    {
     "data": {
      "text/plain": [
       "'hello world'"
      ]
     },
     "execution_count": 24,
     "metadata": {},
     "output_type": "execute_result"
    }
   ],
   "source": [
    "x.lower()"
   ]
  },
  {
   "cell_type": "code",
   "execution_count": 25,
   "id": "65472445",
   "metadata": {},
   "outputs": [
    {
     "data": {
      "text/plain": [
       "['HELLO', 'WORLD']"
      ]
     },
     "execution_count": 25,
     "metadata": {},
     "output_type": "execute_result"
    }
   ],
   "source": [
    "x.split()"
   ]
  },
  {
   "cell_type": "code",
   "execution_count": 26,
   "id": "49524310",
   "metadata": {},
   "outputs": [],
   "source": [
    "x=\"helllo this is python code\""
   ]
  },
  {
   "cell_type": "code",
   "execution_count": 27,
   "id": "baffa1e1",
   "metadata": {},
   "outputs": [
    {
     "data": {
      "text/plain": [
       "['helllo', 'this', 'is', 'python', 'code']"
      ]
     },
     "execution_count": 27,
     "metadata": {},
     "output_type": "execute_result"
    }
   ],
   "source": [
    "x.split()"
   ]
  },
  {
   "cell_type": "code",
   "execution_count": 29,
   "id": "dccb31be",
   "metadata": {},
   "outputs": [
    {
     "data": {
      "text/plain": [
       "['helllo th', 's ', 's python code']"
      ]
     },
     "execution_count": 29,
     "metadata": {},
     "output_type": "execute_result"
    }
   ],
   "source": [
    "x.split('i')"
   ]
  },
  {
   "cell_type": "code",
   "execution_count": 30,
   "id": "2606a17d",
   "metadata": {},
   "outputs": [
    {
     "name": "stdout",
     "output_type": "stream",
     "text": [
      "helllo this is python code\n"
     ]
    }
   ],
   "source": [
    "print(x)"
   ]
  },
  {
   "cell_type": "code",
   "execution_count": null,
   "id": "31ef2861",
   "metadata": {},
   "outputs": [],
   "source": []
  }
 ],
 "metadata": {
  "kernelspec": {
   "display_name": "Python 3 (ipykernel)",
   "language": "python",
   "name": "python3"
  },
  "language_info": {
   "codemirror_mode": {
    "name": "ipython",
    "version": 3
   },
   "file_extension": ".py",
   "mimetype": "text/x-python",
   "name": "python",
   "nbconvert_exporter": "python",
   "pygments_lexer": "ipython3",
   "version": "3.11.3"
  }
 },
 "nbformat": 4,
 "nbformat_minor": 5
}
