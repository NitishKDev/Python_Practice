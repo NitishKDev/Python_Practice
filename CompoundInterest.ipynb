{
 "cells": [
  {
   "cell_type": "code",
   "execution_count": 5,
   "id": "eba49f98",
   "metadata": {},
   "outputs": [
    {
     "name": "stdout",
     "output_type": "stream",
     "text": [
      "Enter the principal: 100\n",
      "Enter the rate: 10\n",
      "Enter the time: 1\n",
      "Compound Interest is: 10.000000000000014\n"
     ]
    }
   ],
   "source": [
    "# when interest is compouded annually\n",
    "def CompoundInterest():\n",
    "    p = float(input(\"Enter the principal: \"))\n",
    "    r = float(input(\"Enter the rate: \"))\n",
    "    t = float(input(\"Enter the time: \"))\n",
    "    Amount = p * (pow((1 + r / 100), t))\n",
    "    ci = Amount - p\n",
    "    return print('Compound Interest is:' ,ci)\n",
    "CompoundInterest()"
   ]
  },
  {
   "cell_type": "code",
   "execution_count": null,
   "id": "4c050150",
   "metadata": {},
   "outputs": [],
   "source": []
  }
 ],
 "metadata": {
  "kernelspec": {
   "display_name": "Python 3 (ipykernel)",
   "language": "python",
   "name": "python3"
  },
  "language_info": {
   "codemirror_mode": {
    "name": "ipython",
    "version": 3
   },
   "file_extension": ".py",
   "mimetype": "text/x-python",
   "name": "python",
   "nbconvert_exporter": "python",
   "pygments_lexer": "ipython3",
   "version": "3.11.3"
  }
 },
 "nbformat": 4,
 "nbformat_minor": 5
}
