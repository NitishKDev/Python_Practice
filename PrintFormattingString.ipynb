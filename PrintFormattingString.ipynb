{
 "cells": [
  {
   "cell_type": "code",
   "execution_count": 1,
   "id": "9b02a1b0",
   "metadata": {},
   "outputs": [],
   "source": [
    "myname=\"jack\""
   ]
  },
  {
   "cell_type": "code",
   "execution_count": 2,
   "id": "c60bb6c3",
   "metadata": {},
   "outputs": [
    {
     "name": "stdout",
     "output_type": "stream",
     "text": [
      "hello jack\n"
     ]
    }
   ],
   "source": [
    "print(\"hello \"+myname)"
   ]
  },
  {
   "cell_type": "code",
   "execution_count": 3,
   "id": "1cda78f5",
   "metadata": {},
   "outputs": [
    {
     "name": "stdout",
     "output_type": "stream",
     "text": [
      "this is beautiful world\n"
     ]
    }
   ],
   "source": [
    "print(\"this is beautiful {}\".format(\"world\"))"
   ]
  },
  {
   "cell_type": "code",
   "execution_count": 4,
   "id": "b196b459",
   "metadata": {},
   "outputs": [
    {
     "name": "stdout",
     "output_type": "stream",
     "text": [
      "this is f r x\n"
     ]
    }
   ],
   "source": [
    "print('this is {2} {1} {0}'.format('x','r','f'))"
   ]
  },
  {
   "cell_type": "code",
   "execution_count": 5,
   "id": "b0c5e4ee",
   "metadata": {},
   "outputs": [
    {
     "name": "stdout",
     "output_type": "stream",
     "text": [
      "this is f x x\n"
     ]
    }
   ],
   "source": [
    "print('this is {2} {0} {0}'.format('x','r','f'))"
   ]
  },
  {
   "cell_type": "code",
   "execution_count": 6,
   "id": "496ff0de",
   "metadata": {},
   "outputs": [
    {
     "name": "stdout",
     "output_type": "stream",
     "text": [
      "this is f x r\n"
     ]
    }
   ],
   "source": [
    "print('this is {a} {b} {c}'.format(b='x',c='r',a='f'))"
   ]
  },
  {
   "cell_type": "code",
   "execution_count": 7,
   "id": "3af9547c",
   "metadata": {},
   "outputs": [],
   "source": [
    "result=100/777"
   ]
  },
  {
   "cell_type": "code",
   "execution_count": 8,
   "id": "adae1f7d",
   "metadata": {},
   "outputs": [
    {
     "data": {
      "text/plain": [
       "0.1287001287001287"
      ]
     },
     "execution_count": 8,
     "metadata": {},
     "output_type": "execute_result"
    }
   ],
   "source": [
    "result"
   ]
  },
  {
   "cell_type": "code",
   "execution_count": 9,
   "id": "36515202",
   "metadata": {},
   "outputs": [
    {
     "name": "stdout",
     "output_type": "stream",
     "text": [
      "the result is 0.1287001287001287\n"
     ]
    }
   ],
   "source": [
    "print(\"the result is {}\".format(result))"
   ]
  },
  {
   "cell_type": "code",
   "execution_count": 10,
   "id": "36b265df",
   "metadata": {},
   "outputs": [
    {
     "name": "stdout",
     "output_type": "stream",
     "text": [
      "the result is 0.1287001287001287\n"
     ]
    }
   ],
   "source": [
    "print(\"the result is {r}\".format(r=result))"
   ]
  },
  {
   "cell_type": "code",
   "execution_count": 13,
   "id": "37c64b50",
   "metadata": {},
   "outputs": [
    {
     "name": "stdout",
     "output_type": "stream",
     "text": [
      "the result is 0.129\n"
     ]
    }
   ],
   "source": [
    "print(\"the result is {r:1.3f}\".format(r=result))"
   ]
  },
  {
   "cell_type": "code",
   "execution_count": 14,
   "id": "e4ea7766",
   "metadata": {},
   "outputs": [],
   "source": [
    "name=\"jose\""
   ]
  },
  {
   "cell_type": "code",
   "execution_count": 15,
   "id": "59e7eff0",
   "metadata": {},
   "outputs": [
    {
     "name": "stdout",
     "output_type": "stream",
     "text": [
      "hello,his name is jose\n"
     ]
    }
   ],
   "source": [
    "print(\"hello,his name is {}\".format(name))"
   ]
  },
  {
   "cell_type": "code",
   "execution_count": 19,
   "id": "bbb24280",
   "metadata": {},
   "outputs": [
    {
     "name": "stdout",
     "output_type": "stream",
     "text": [
      "hello nsme is jose\n"
     ]
    }
   ],
   "source": [
    "print(f'hello nsme is {name}')"
   ]
  },
  {
   "cell_type": "code",
   "execution_count": 20,
   "id": "dbab4ddf",
   "metadata": {},
   "outputs": [],
   "source": [
    "name='jack'\n",
    "age=20"
   ]
  },
  {
   "cell_type": "code",
   "execution_count": 21,
   "id": "991ccc93",
   "metadata": {},
   "outputs": [
    {
     "name": "stdout",
     "output_type": "stream",
     "text": [
      "jack is 20 years old.\n"
     ]
    }
   ],
   "source": [
    "print(f'{name} is {age} years old.')"
   ]
  },
  {
   "cell_type": "code",
   "execution_count": null,
   "id": "b4efe7ab",
   "metadata": {},
   "outputs": [],
   "source": []
  }
 ],
 "metadata": {
  "kernelspec": {
   "display_name": "Python 3 (ipykernel)",
   "language": "python",
   "name": "python3"
  },
  "language_info": {
   "codemirror_mode": {
    "name": "ipython",
    "version": 3
   },
   "file_extension": ".py",
   "mimetype": "text/x-python",
   "name": "python",
   "nbconvert_exporter": "python",
   "pygments_lexer": "ipython3",
   "version": "3.11.3"
  }
 },
 "nbformat": 4,
 "nbformat_minor": 5
}
