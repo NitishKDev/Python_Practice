{
 "cells": [
  {
   "cell_type": "markdown",
   "id": "4a7d3020",
   "metadata": {},
   "source": [
    "Write a Python program to insert an element into a sorted list "
   ]
  },
  {
   "cell_type": "code",
   "execution_count": 17,
   "id": "366e69ff",
   "metadata": {},
   "outputs": [
    {
     "name": "stdout",
     "output_type": "stream",
     "text": [
      "[10, 20, 30, 40, 50]\n",
      "Enter new element to insert in list : 43\n",
      "Updated Sorted List: [10, 20, 30, 40, 43, 50]\n"
     ]
    }
   ],
   "source": [
    "def insert(sortlist, ele,sz):\n",
    "    index=0\n",
    "    # Find the correct position to insert the element\n",
    "    while index < sz and sortlist[index] < ele:\n",
    "        index += 1\n",
    "# Insert the element at the found position\n",
    "    sortlist.insert(index, ele)\n",
    "    return sortlist\n",
    "\n",
    "slist=[10, 20, 30, 40, 50]\n",
    "print(slist)\n",
    "size=len(slist)\n",
    "element=int(input(\"Enter new element to insert in list : \"))\n",
    "slist= insert(slist, element,size)\n",
    "print(\"Updated Sorted List:\", slist)"
   ]
  },
  {
   "cell_type": "code",
   "execution_count": null,
   "id": "51977fd7",
   "metadata": {},
   "outputs": [],
   "source": []
  }
 ],
 "metadata": {
  "kernelspec": {
   "display_name": "Python 3 (ipykernel)",
   "language": "python",
   "name": "python3"
  },
  "language_info": {
   "codemirror_mode": {
    "name": "ipython",
    "version": 3
   },
   "file_extension": ".py",
   "mimetype": "text/x-python",
   "name": "python",
   "nbconvert_exporter": "python",
   "pygments_lexer": "ipython3",
   "version": "3.11.3"
  }
 },
 "nbformat": 4,
 "nbformat_minor": 5
}
