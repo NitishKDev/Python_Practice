{
 "cells": [
  {
   "cell_type": "markdown",
   "id": "3c3e7fa1",
   "metadata": {},
   "source": [
    "Read a file line by line and print the word count of whole file."
   ]
  },
  {
   "cell_type": "code",
   "execution_count": 10,
   "id": "b2133873",
   "metadata": {},
   "outputs": [
    {
     "name": "stdout",
     "output_type": "stream",
     "text": [
      "21\n"
     ]
    }
   ],
   "source": [
    "wc=0\n",
    "with open(\"Text.txt\",\"r\") as file:\n",
    "    for i in file:\n",
    "        wc=wc+len(i.split())\n",
    "print(wc)"
   ]
  },
  {
   "cell_type": "markdown",
   "id": "d1ebefc2",
   "metadata": {},
   "source": [
    "Read a file line by line and print the word count of each line"
   ]
  },
  {
   "cell_type": "code",
   "execution_count": 11,
   "id": "ae032a01",
   "metadata": {},
   "outputs": [
    {
     "name": "stdout",
     "output_type": "stream",
     "text": [
      "Line 1: 5 words\n",
      "Line 2: 3 words\n",
      "Line 3: 4 words\n",
      "Line 4: 2 words\n",
      "Line 5: 7 words\n"
     ]
    }
   ],
   "source": [
    "with open(\"Text.txt\", \"r\") as file:\n",
    "    line_number = 1\n",
    "    for line in file:\n",
    "        word_count = len(line.split())\n",
    "        print(f\"Line {line_number}: {word_count} words\")\n",
    "        line_number += 1\n"
   ]
  },
  {
   "cell_type": "code",
   "execution_count": null,
   "id": "c01b8453",
   "metadata": {},
   "outputs": [],
   "source": []
  }
 ],
 "metadata": {
  "kernelspec": {
   "display_name": "Python 3 (ipykernel)",
   "language": "python",
   "name": "python3"
  },
  "language_info": {
   "codemirror_mode": {
    "name": "ipython",
    "version": 3
   },
   "file_extension": ".py",
   "mimetype": "text/x-python",
   "name": "python",
   "nbconvert_exporter": "python",
   "pygments_lexer": "ipython3",
   "version": "3.11.3"
  }
 },
 "nbformat": 4,
 "nbformat_minor": 5
}
