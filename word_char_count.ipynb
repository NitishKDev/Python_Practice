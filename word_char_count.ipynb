{
 "cells": [
  {
   "cell_type": "markdown",
   "id": "efa5a415",
   "metadata": {},
   "source": [
    "Word and character count of a given string"
   ]
  },
  {
   "cell_type": "code",
   "execution_count": 4,
   "id": "0745c7e7",
   "metadata": {},
   "outputs": [
    {
     "name": "stdout",
     "output_type": "stream",
     "text": [
      "Enter any string helo my name is jack\n",
      "Total word count are word 5\n",
      "Total character count are 20\n"
     ]
    }
   ],
   "source": [
    "strr=input(\"Enter any string \")\n",
    "word=len(strr.split())\n",
    "chara=len(strr)\n",
    "print(\"Total word count are word {}\".format(word))\n",
    "print(\"Total character count are {}\".format(chara))"
   ]
  },
  {
   "cell_type": "code",
   "execution_count": null,
   "id": "fc652840",
   "metadata": {},
   "outputs": [],
   "source": []
  }
 ],
 "metadata": {
  "kernelspec": {
   "display_name": "Python 3 (ipykernel)",
   "language": "python",
   "name": "python3"
  },
  "language_info": {
   "codemirror_mode": {
    "name": "ipython",
    "version": 3
   },
   "file_extension": ".py",
   "mimetype": "text/x-python",
   "name": "python",
   "nbconvert_exporter": "python",
   "pygments_lexer": "ipython3",
   "version": "3.11.3"
  }
 },
 "nbformat": 4,
 "nbformat_minor": 5
}
