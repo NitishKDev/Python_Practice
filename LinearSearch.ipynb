{
 "cells": [
  {
   "cell_type": "code",
   "execution_count": 7,
   "id": "4f428653",
   "metadata": {},
   "outputs": [
    {
     "name": "stdout",
     "output_type": "stream",
     "text": [
      "Enter the element to be search: 77\n",
      "Element not found\n"
     ]
    }
   ],
   "source": [
    "def linearSearch(arr, n, key):  \n",
    "  \n",
    "    # Searching arr sequentially  \n",
    "    for i in range(0, n):  \n",
    "        if (arr[i] == key):  \n",
    "            return i  \n",
    "    return -1  \n",
    "  \n",
    "  \n",
    "arr = [1 ,3, 5, 4, 7, 9]  \n",
    "key = int(input(\"Enter the element to be search: \"))  \n",
    "n = len(arr)  \n",
    "res = linearSearch(arr, n, key)  \n",
    "if(res == -1):  \n",
    "    print(\"Element not found\")  \n",
    "else:  \n",
    "    print(\"Element found at index: \", res)  "
   ]
  },
  {
   "cell_type": "code",
   "execution_count": null,
   "id": "61926b8b",
   "metadata": {},
   "outputs": [],
   "source": []
  }
 ],
 "metadata": {
  "kernelspec": {
   "display_name": "Python 3 (ipykernel)",
   "language": "python",
   "name": "python3"
  },
  "language_info": {
   "codemirror_mode": {
    "name": "ipython",
    "version": 3
   },
   "file_extension": ".py",
   "mimetype": "text/x-python",
   "name": "python",
   "nbconvert_exporter": "python",
   "pygments_lexer": "ipython3",
   "version": "3.11.3"
  }
 },
 "nbformat": 4,
 "nbformat_minor": 5
}
